{
  "cells": [
    {
      "cell_type": "markdown",
      "id": "e042955b",
      "metadata": {
        "id": "e042955b"
      },
      "source": [
        "## Twitter hates speech detection using FastText"
      ]
    },
    {
      "cell_type": "code",
      "execution_count": null,
      "id": "86d0d1d8-ca10-4b60-87f4-fc7f9c7fed89",
      "metadata": {
        "id": "86d0d1d8-ca10-4b60-87f4-fc7f9c7fed89"
      },
      "outputs": [],
      "source": [
        "import re\n",
        "import string\n",
        "import nltk\n",
        "import numpy as np\n",
        "import pandas as pd\n",
        "from sklearn.model_selection import train_test_split\n",
        "from sklearn.feature_extraction.text import CountVectorizer\n",
        "from sklearn.linear_model import LogisticRegression\n",
        "from sklearn.metrics import accuracy_score\n",
        "\n",
        "\n",
        "from nltk.corpus import stopwords\n",
        "from nltk.classify import SklearnClassifier\n",
        "from nltk.tokenize import word_tokenize\n",
        "\n",
        "from wordcloud import WordCloud,STOPWORDS\n",
        "import matplotlib.pyplot as plt\n",
        "%matplotlib inline\n",
        "\n",
        "from subprocess import check_output\n",
        "#nltk.download('stopwords')\n",
        "from nltk.corpus import stopwords\n",
        "#from nltk.stem.porter import PorterStemme\n",
        "from nltk.stem import PorterStemmer\n",
        "ps = PorterStemmer()"
      ]
    },
    {
      "cell_type": "code",
      "execution_count": null,
      "id": "80cdd99d",
      "metadata": {
        "id": "80cdd99d",
        "outputId": "f6de620a-3ca9-4773-94ee-f31558157277"
      },
      "outputs": [
        {
          "name": "stdout",
          "output_type": "stream",
          "text": [
            "(31962, 3)\n"
          ]
        },
        {
          "data": {
            "text/html": [
              "<div>\n",
              "<style scoped>\n",
              "    .dataframe tbody tr th:only-of-type {\n",
              "        vertical-align: middle;\n",
              "    }\n",
              "\n",
              "    .dataframe tbody tr th {\n",
              "        vertical-align: top;\n",
              "    }\n",
              "\n",
              "    .dataframe thead th {\n",
              "        text-align: right;\n",
              "    }\n",
              "</style>\n",
              "<table border=\"1\" class=\"dataframe\">\n",
              "  <thead>\n",
              "    <tr style=\"text-align: right;\">\n",
              "      <th></th>\n",
              "      <th>id</th>\n",
              "      <th>label</th>\n",
              "      <th>tweet</th>\n",
              "    </tr>\n",
              "  </thead>\n",
              "  <tbody>\n",
              "    <tr>\n",
              "      <th>0</th>\n",
              "      <td>1</td>\n",
              "      <td>0</td>\n",
              "      <td>@user when a father is dysfunctional and is s...</td>\n",
              "    </tr>\n",
              "    <tr>\n",
              "      <th>1</th>\n",
              "      <td>2</td>\n",
              "      <td>0</td>\n",
              "      <td>@user @user thanks for #lyft credit i can't us...</td>\n",
              "    </tr>\n",
              "    <tr>\n",
              "      <th>2</th>\n",
              "      <td>3</td>\n",
              "      <td>0</td>\n",
              "      <td>bihday your majesty</td>\n",
              "    </tr>\n",
              "  </tbody>\n",
              "</table>\n",
              "</div>"
            ],
            "text/plain": [
              "   id  label                                              tweet\n",
              "0   1      0   @user when a father is dysfunctional and is s...\n",
              "1   2      0  @user @user thanks for #lyft credit i can't us...\n",
              "2   3      0                                bihday your majesty"
            ]
          },
          "execution_count": 2,
          "metadata": {},
          "output_type": "execute_result"
        }
      ],
      "source": [
        "import pandas as pd\n",
        "\n",
        "df= pd.read_csv(\"TwitterHate.csv\")\n",
        "print(df.shape)\n",
        "df.head(3)"
      ]
    },
    {
      "cell_type": "markdown",
      "id": "f05f78e4",
      "metadata": {
        "id": "f05f78e4"
      },
      "source": [
        "**Drop NA values**"
      ]
    },
    {
      "cell_type": "code",
      "execution_count": null,
      "id": "a448badc",
      "metadata": {
        "id": "a448badc",
        "outputId": "a7164f23-f111-46ba-8463-f733117d57d3"
      },
      "outputs": [
        {
          "data": {
            "text/plain": [
              "(31962, 3)"
            ]
          },
          "execution_count": 3,
          "metadata": {},
          "output_type": "execute_result"
        }
      ],
      "source": [
        "df.dropna(inplace=True)\n",
        "df.shape"
      ]
    },
    {
      "cell_type": "code",
      "execution_count": null,
      "id": "9d48a3cd",
      "metadata": {
        "id": "9d48a3cd",
        "outputId": "892366ed-decb-4fee-d4d8-46dc9c811d18"
      },
      "outputs": [
        {
          "data": {
            "text/plain": [
              "array([0, 1], dtype=int64)"
            ]
          },
          "execution_count": 4,
          "metadata": {},
          "output_type": "execute_result"
        }
      ],
      "source": [
        "df.label.unique()"
      ]
    },
    {
      "cell_type": "code",
      "execution_count": null,
      "id": "5ff75533-c7ea-4781-b34a-11ec8e74c771",
      "metadata": {
        "id": "5ff75533-c7ea-4781-b34a-11ec8e74c771"
      },
      "outputs": [],
      "source": [
        "df['label_map'] = df['label'].map({0:\"none_hate\",1:\"hate\"})"
      ]
    },
    {
      "cell_type": "code",
      "execution_count": null,
      "id": "b621c83d-4d59-4907-81c1-68afe4afd851",
      "metadata": {
        "id": "b621c83d-4d59-4907-81c1-68afe4afd851",
        "outputId": "155c49d9-3a3a-4735-8be0-1b6c7f666432"
      },
      "outputs": [
        {
          "data": {
            "text/html": [
              "<div>\n",
              "<style scoped>\n",
              "    .dataframe tbody tr th:only-of-type {\n",
              "        vertical-align: middle;\n",
              "    }\n",
              "\n",
              "    .dataframe tbody tr th {\n",
              "        vertical-align: top;\n",
              "    }\n",
              "\n",
              "    .dataframe thead th {\n",
              "        text-align: right;\n",
              "    }\n",
              "</style>\n",
              "<table border=\"1\" class=\"dataframe\">\n",
              "  <thead>\n",
              "    <tr style=\"text-align: right;\">\n",
              "      <th></th>\n",
              "      <th>id</th>\n",
              "      <th>label</th>\n",
              "      <th>tweet</th>\n",
              "      <th>label_map</th>\n",
              "    </tr>\n",
              "  </thead>\n",
              "  <tbody>\n",
              "    <tr>\n",
              "      <th>0</th>\n",
              "      <td>1</td>\n",
              "      <td>0</td>\n",
              "      <td>@user when a father is dysfunctional and is s...</td>\n",
              "      <td>none_hate</td>\n",
              "    </tr>\n",
              "    <tr>\n",
              "      <th>1</th>\n",
              "      <td>2</td>\n",
              "      <td>0</td>\n",
              "      <td>@user @user thanks for #lyft credit i can't us...</td>\n",
              "      <td>none_hate</td>\n",
              "    </tr>\n",
              "    <tr>\n",
              "      <th>2</th>\n",
              "      <td>3</td>\n",
              "      <td>0</td>\n",
              "      <td>bihday your majesty</td>\n",
              "      <td>none_hate</td>\n",
              "    </tr>\n",
              "    <tr>\n",
              "      <th>3</th>\n",
              "      <td>4</td>\n",
              "      <td>0</td>\n",
              "      <td>#model   i love u take with u all the time in ...</td>\n",
              "      <td>none_hate</td>\n",
              "    </tr>\n",
              "    <tr>\n",
              "      <th>4</th>\n",
              "      <td>5</td>\n",
              "      <td>0</td>\n",
              "      <td>factsguide: society now    #motivation</td>\n",
              "      <td>none_hate</td>\n",
              "    </tr>\n",
              "  </tbody>\n",
              "</table>\n",
              "</div>"
            ],
            "text/plain": [
              "   id  label                                              tweet  label_map\n",
              "0   1      0   @user when a father is dysfunctional and is s...  none_hate\n",
              "1   2      0  @user @user thanks for #lyft credit i can't us...  none_hate\n",
              "2   3      0                                bihday your majesty  none_hate\n",
              "3   4      0  #model   i love u take with u all the time in ...  none_hate\n",
              "4   5      0             factsguide: society now    #motivation  none_hate"
            ]
          },
          "execution_count": 6,
          "metadata": {},
          "output_type": "execute_result"
        }
      ],
      "source": [
        "df.head()"
      ]
    },
    {
      "cell_type": "code",
      "execution_count": null,
      "id": "c277c44e",
      "metadata": {
        "id": "c277c44e",
        "outputId": "da42dd77-86f1-438f-e754-b6ae31596a42"
      },
      "outputs": [
        {
          "data": {
            "text/plain": [
              "array(['none_hate', 'hate'], dtype=object)"
            ]
          },
          "execution_count": 7,
          "metadata": {},
          "output_type": "execute_result"
        }
      ],
      "source": [
        "df.label_map.unique()"
      ]
    },
    {
      "cell_type": "code",
      "execution_count": null,
      "id": "9f7261fb-3ae5-4d5c-a842-5379a8960d8e",
      "metadata": {
        "id": "9f7261fb-3ae5-4d5c-a842-5379a8960d8e",
        "outputId": "e479c05c-04be-4cae-9944-44ca957ba700"
      },
      "outputs": [
        {
          "data": {
            "text/plain": [
              "none_hate    29720\n",
              "hate          2242\n",
              "Name: label_map, dtype: int64"
            ]
          },
          "execution_count": 8,
          "metadata": {},
          "output_type": "execute_result"
        }
      ],
      "source": [
        "df.label_map.value_counts()"
      ]
    },
    {
      "cell_type": "code",
      "execution_count": null,
      "id": "98507a62-e3fe-4d9d-a212-7e9746d0b429",
      "metadata": {
        "id": "98507a62-e3fe-4d9d-a212-7e9746d0b429",
        "outputId": "97e23dda-58e4-4786-86bf-35420aa01be7"
      },
      "outputs": [
        {
          "data": {
            "text/plain": [
              "\"@user @user thanks for #lyft credit i can't use cause they don't offer wheelchair vans in pdx.    #disapointed #getthanked\""
            ]
          },
          "execution_count": 9,
          "metadata": {},
          "output_type": "execute_result"
        }
      ],
      "source": [
        "df.tweet[1]"
      ]
    },
    {
      "cell_type": "code",
      "execution_count": null,
      "id": "3f568a80",
      "metadata": {
        "id": "3f568a80"
      },
      "outputs": [],
      "source": [
        "def preprocessing(data):\n",
        "    stemmer = nltk.stem.RSLPStemmer()\n",
        "    all_stopwords = stopwords.words('english')\n",
        "    all_stopwords.remove('not')\n",
        "    corpus = []\n",
        "    for tweet in data:\n",
        "\n",
        "        review = re.sub(r\"@[A-Za-z0-9_]+\", \" \", tweet)\n",
        "        review = re.sub('RT', ' ', review)\n",
        "        review = re.sub(r\"https?://[A-Za-z0-9./]+\", \" \", review)\n",
        "        review = re.sub(r\"https?\", \" \", review)\n",
        "        review = re.sub('[^a-zA-Z]', ' ', review)\n",
        "        review = review.lower()\n",
        "        review = review.split()\n",
        "        ps = PorterStemmer()\n",
        "        review = [ps.stem(word) for word in review if not word in set(all_stopwords) if len(word) > 2]\n",
        "        review = ' '.join(review)\n",
        "        corpus.append(review)\n",
        "\n",
        "    return np.array(corpus)"
      ]
    },
    {
      "cell_type": "code",
      "execution_count": null,
      "id": "9da3dc49-5db8-43aa-a6e7-96b383c4d0dc",
      "metadata": {
        "id": "9da3dc49-5db8-43aa-a6e7-96b383c4d0dc"
      },
      "outputs": [],
      "source": [
        "df['cleen_tweet'] = preprocessing(df['tweet'].values)"
      ]
    },
    {
      "cell_type": "code",
      "execution_count": null,
      "id": "410dedcb",
      "metadata": {
        "id": "410dedcb",
        "outputId": "c0725705-d8b5-4311-a835-291032c5f957"
      },
      "outputs": [
        {
          "data": {
            "text/html": [
              "<div>\n",
              "<style scoped>\n",
              "    .dataframe tbody tr th:only-of-type {\n",
              "        vertical-align: middle;\n",
              "    }\n",
              "\n",
              "    .dataframe tbody tr th {\n",
              "        vertical-align: top;\n",
              "    }\n",
              "\n",
              "    .dataframe thead th {\n",
              "        text-align: right;\n",
              "    }\n",
              "</style>\n",
              "<table border=\"1\" class=\"dataframe\">\n",
              "  <thead>\n",
              "    <tr style=\"text-align: right;\">\n",
              "      <th></th>\n",
              "      <th>id</th>\n",
              "      <th>label</th>\n",
              "      <th>tweet</th>\n",
              "      <th>label_map</th>\n",
              "      <th>cleen_tweet</th>\n",
              "    </tr>\n",
              "  </thead>\n",
              "  <tbody>\n",
              "    <tr>\n",
              "      <th>0</th>\n",
              "      <td>1</td>\n",
              "      <td>0</td>\n",
              "      <td>@user when a father is dysfunctional and is s...</td>\n",
              "      <td>none_hate</td>\n",
              "      <td>father dysfunct selfish drag kid dysfunct run</td>\n",
              "    </tr>\n",
              "    <tr>\n",
              "      <th>1</th>\n",
              "      <td>2</td>\n",
              "      <td>0</td>\n",
              "      <td>@user @user thanks for #lyft credit i can't us...</td>\n",
              "      <td>none_hate</td>\n",
              "      <td>thank lyft credit use caus offer wheelchair va...</td>\n",
              "    </tr>\n",
              "    <tr>\n",
              "      <th>2</th>\n",
              "      <td>3</td>\n",
              "      <td>0</td>\n",
              "      <td>bihday your majesty</td>\n",
              "      <td>none_hate</td>\n",
              "      <td>bihday majesti</td>\n",
              "    </tr>\n",
              "    <tr>\n",
              "      <th>3</th>\n",
              "      <td>4</td>\n",
              "      <td>0</td>\n",
              "      <td>#model   i love u take with u all the time in ...</td>\n",
              "      <td>none_hate</td>\n",
              "      <td>model love take time</td>\n",
              "    </tr>\n",
              "    <tr>\n",
              "      <th>4</th>\n",
              "      <td>5</td>\n",
              "      <td>0</td>\n",
              "      <td>factsguide: society now    #motivation</td>\n",
              "      <td>none_hate</td>\n",
              "      <td>factsguid societi motiv</td>\n",
              "    </tr>\n",
              "  </tbody>\n",
              "</table>\n",
              "</div>"
            ],
            "text/plain": [
              "   id  label                                              tweet  label_map  \\\n",
              "0   1      0   @user when a father is dysfunctional and is s...  none_hate   \n",
              "1   2      0  @user @user thanks for #lyft credit i can't us...  none_hate   \n",
              "2   3      0                                bihday your majesty  none_hate   \n",
              "3   4      0  #model   i love u take with u all the time in ...  none_hate   \n",
              "4   5      0             factsguide: society now    #motivation  none_hate   \n",
              "\n",
              "                                         cleen_tweet  \n",
              "0      father dysfunct selfish drag kid dysfunct run  \n",
              "1  thank lyft credit use caus offer wheelchair va...  \n",
              "2                                     bihday majesti  \n",
              "3                               model love take time  \n",
              "4                            factsguid societi motiv  "
            ]
          },
          "execution_count": 12,
          "metadata": {},
          "output_type": "execute_result"
        }
      ],
      "source": [
        "\n",
        "df.head()"
      ]
    },
    {
      "cell_type": "markdown",
      "id": "45ccc21c-0621-46ff-ace2-19594f8eb526",
      "metadata": {
        "id": "45ccc21c-0621-46ff-ace2-19594f8eb526"
      },
      "source": [
        "#### Train a fasttext model, it expects labels to be specified with label prefix. I have just create a third column in the dataframe that has label as well as the Tweets"
      ]
    },
    {
      "cell_type": "code",
      "execution_count": null,
      "id": "6c498541-4137-48db-996a-92dc6d9fdb29",
      "metadata": {
        "id": "6c498541-4137-48db-996a-92dc6d9fdb29",
        "outputId": "e9c7be7f-1a6d-4569-952f-46f32405414c"
      },
      "outputs": [
        {
          "data": {
            "text/html": [
              "<div>\n",
              "<style scoped>\n",
              "    .dataframe tbody tr th:only-of-type {\n",
              "        vertical-align: middle;\n",
              "    }\n",
              "\n",
              "    .dataframe tbody tr th {\n",
              "        vertical-align: top;\n",
              "    }\n",
              "\n",
              "    .dataframe thead th {\n",
              "        text-align: right;\n",
              "    }\n",
              "</style>\n",
              "<table border=\"1\" class=\"dataframe\">\n",
              "  <thead>\n",
              "    <tr style=\"text-align: right;\">\n",
              "      <th></th>\n",
              "      <th>id</th>\n",
              "      <th>label</th>\n",
              "      <th>tweet</th>\n",
              "      <th>label_map</th>\n",
              "      <th>cleen_tweet</th>\n",
              "      <th>_label_map</th>\n",
              "    </tr>\n",
              "  </thead>\n",
              "  <tbody>\n",
              "    <tr>\n",
              "      <th>0</th>\n",
              "      <td>1</td>\n",
              "      <td>0</td>\n",
              "      <td>@user when a father is dysfunctional and is s...</td>\n",
              "      <td>none_hate</td>\n",
              "      <td>father dysfunct selfish drag kid dysfunct run</td>\n",
              "      <td>__label__none_hate</td>\n",
              "    </tr>\n",
              "    <tr>\n",
              "      <th>1</th>\n",
              "      <td>2</td>\n",
              "      <td>0</td>\n",
              "      <td>@user @user thanks for #lyft credit i can't us...</td>\n",
              "      <td>none_hate</td>\n",
              "      <td>thank lyft credit use caus offer wheelchair va...</td>\n",
              "      <td>__label__none_hate</td>\n",
              "    </tr>\n",
              "    <tr>\n",
              "      <th>2</th>\n",
              "      <td>3</td>\n",
              "      <td>0</td>\n",
              "      <td>bihday your majesty</td>\n",
              "      <td>none_hate</td>\n",
              "      <td>bihday majesti</td>\n",
              "      <td>__label__none_hate</td>\n",
              "    </tr>\n",
              "    <tr>\n",
              "      <th>3</th>\n",
              "      <td>4</td>\n",
              "      <td>0</td>\n",
              "      <td>#model   i love u take with u all the time in ...</td>\n",
              "      <td>none_hate</td>\n",
              "      <td>model love take time</td>\n",
              "      <td>__label__none_hate</td>\n",
              "    </tr>\n",
              "    <tr>\n",
              "      <th>4</th>\n",
              "      <td>5</td>\n",
              "      <td>0</td>\n",
              "      <td>factsguide: society now    #motivation</td>\n",
              "      <td>none_hate</td>\n",
              "      <td>factsguid societi motiv</td>\n",
              "      <td>__label__none_hate</td>\n",
              "    </tr>\n",
              "  </tbody>\n",
              "</table>\n",
              "</div>"
            ],
            "text/plain": [
              "   id  label                                              tweet  label_map  \\\n",
              "0   1      0   @user when a father is dysfunctional and is s...  none_hate   \n",
              "1   2      0  @user @user thanks for #lyft credit i can't us...  none_hate   \n",
              "2   3      0                                bihday your majesty  none_hate   \n",
              "3   4      0  #model   i love u take with u all the time in ...  none_hate   \n",
              "4   5      0             factsguide: society now    #motivation  none_hate   \n",
              "\n",
              "                                         cleen_tweet          _label_map  \n",
              "0      father dysfunct selfish drag kid dysfunct run  __label__none_hate  \n",
              "1  thank lyft credit use caus offer wheelchair va...  __label__none_hate  \n",
              "2                                     bihday majesti  __label__none_hate  \n",
              "3                               model love take time  __label__none_hate  \n",
              "4                            factsguid societi motiv  __label__none_hate  "
            ]
          },
          "execution_count": 13,
          "metadata": {},
          "output_type": "execute_result"
        }
      ],
      "source": [
        "df['_label_map'] = '__label__' + df['label_map'].astype(str)\n",
        "df.head(5)"
      ]
    },
    {
      "cell_type": "code",
      "execution_count": null,
      "id": "7a66379b-f507-4d2f-bff1-8070d4e7cb24",
      "metadata": {
        "id": "7a66379b-f507-4d2f-bff1-8070d4e7cb24",
        "outputId": "c41e699c-15d1-42ac-db41-6c301bac34de"
      },
      "outputs": [
        {
          "data": {
            "text/html": [
              "<div>\n",
              "<style scoped>\n",
              "    .dataframe tbody tr th:only-of-type {\n",
              "        vertical-align: middle;\n",
              "    }\n",
              "\n",
              "    .dataframe tbody tr th {\n",
              "        vertical-align: top;\n",
              "    }\n",
              "\n",
              "    .dataframe thead th {\n",
              "        text-align: right;\n",
              "    }\n",
              "</style>\n",
              "<table border=\"1\" class=\"dataframe\">\n",
              "  <thead>\n",
              "    <tr style=\"text-align: right;\">\n",
              "      <th></th>\n",
              "      <th>id</th>\n",
              "      <th>label</th>\n",
              "      <th>tweet</th>\n",
              "      <th>label_map</th>\n",
              "      <th>cleen_tweet</th>\n",
              "      <th>_label_map</th>\n",
              "      <th>Label_Tweet</th>\n",
              "    </tr>\n",
              "  </thead>\n",
              "  <tbody>\n",
              "    <tr>\n",
              "      <th>0</th>\n",
              "      <td>1</td>\n",
              "      <td>0</td>\n",
              "      <td>@user when a father is dysfunctional and is s...</td>\n",
              "      <td>none_hate</td>\n",
              "      <td>father dysfunct selfish drag kid dysfunct run</td>\n",
              "      <td>__label__none_hate</td>\n",
              "      <td>__label__none_hate father dysfunct selfish dra...</td>\n",
              "    </tr>\n",
              "    <tr>\n",
              "      <th>1</th>\n",
              "      <td>2</td>\n",
              "      <td>0</td>\n",
              "      <td>@user @user thanks for #lyft credit i can't us...</td>\n",
              "      <td>none_hate</td>\n",
              "      <td>thank lyft credit use caus offer wheelchair va...</td>\n",
              "      <td>__label__none_hate</td>\n",
              "      <td>__label__none_hate thank lyft credit use caus ...</td>\n",
              "    </tr>\n",
              "    <tr>\n",
              "      <th>2</th>\n",
              "      <td>3</td>\n",
              "      <td>0</td>\n",
              "      <td>bihday your majesty</td>\n",
              "      <td>none_hate</td>\n",
              "      <td>bihday majesti</td>\n",
              "      <td>__label__none_hate</td>\n",
              "      <td>__label__none_hate bihday majesti</td>\n",
              "    </tr>\n",
              "    <tr>\n",
              "      <th>3</th>\n",
              "      <td>4</td>\n",
              "      <td>0</td>\n",
              "      <td>#model   i love u take with u all the time in ...</td>\n",
              "      <td>none_hate</td>\n",
              "      <td>model love take time</td>\n",
              "      <td>__label__none_hate</td>\n",
              "      <td>__label__none_hate model love take time</td>\n",
              "    </tr>\n",
              "    <tr>\n",
              "      <th>4</th>\n",
              "      <td>5</td>\n",
              "      <td>0</td>\n",
              "      <td>factsguide: society now    #motivation</td>\n",
              "      <td>none_hate</td>\n",
              "      <td>factsguid societi motiv</td>\n",
              "      <td>__label__none_hate</td>\n",
              "      <td>__label__none_hate factsguid societi motiv</td>\n",
              "    </tr>\n",
              "  </tbody>\n",
              "</table>\n",
              "</div>"
            ],
            "text/plain": [
              "   id  label                                              tweet  label_map  \\\n",
              "0   1      0   @user when a father is dysfunctional and is s...  none_hate   \n",
              "1   2      0  @user @user thanks for #lyft credit i can't us...  none_hate   \n",
              "2   3      0                                bihday your majesty  none_hate   \n",
              "3   4      0  #model   i love u take with u all the time in ...  none_hate   \n",
              "4   5      0             factsguide: society now    #motivation  none_hate   \n",
              "\n",
              "                                         cleen_tweet          _label_map  \\\n",
              "0      father dysfunct selfish drag kid dysfunct run  __label__none_hate   \n",
              "1  thank lyft credit use caus offer wheelchair va...  __label__none_hate   \n",
              "2                                     bihday majesti  __label__none_hate   \n",
              "3                               model love take time  __label__none_hate   \n",
              "4                            factsguid societi motiv  __label__none_hate   \n",
              "\n",
              "                                         Label_Tweet  \n",
              "0  __label__none_hate father dysfunct selfish dra...  \n",
              "1  __label__none_hate thank lyft credit use caus ...  \n",
              "2                  __label__none_hate bihday majesti  \n",
              "3            __label__none_hate model love take time  \n",
              "4         __label__none_hate factsguid societi motiv  "
            ]
          },
          "execution_count": 14,
          "metadata": {},
          "output_type": "execute_result"
        }
      ],
      "source": [
        "df['Label_Tweet'] = df['_label_map'] + ' ' + df['cleen_tweet']\n",
        "df.head()"
      ]
    },
    {
      "cell_type": "code",
      "execution_count": null,
      "id": "b592bedc-a753-4969-b155-9ae4060438b8",
      "metadata": {
        "id": "b592bedc-a753-4969-b155-9ae4060438b8",
        "outputId": "c4f82bcf-57ce-4149-ce10-c2eaf2ec6a06"
      },
      "outputs": [
        {
          "data": {
            "text/plain": [
              "'__label__none_hate thank lyft credit use caus offer wheelchair van pdx disapoint getthank'"
            ]
          },
          "execution_count": 15,
          "metadata": {},
          "output_type": "execute_result"
        }
      ],
      "source": [
        "df.Label_Tweet[1]"
      ]
    },
    {
      "cell_type": "markdown",
      "id": "46fe1cd4",
      "metadata": {
        "id": "46fe1cd4"
      },
      "source": [
        "**Train Test Split**"
      ]
    },
    {
      "cell_type": "code",
      "execution_count": null,
      "id": "9beb0040",
      "metadata": {
        "id": "9beb0040"
      },
      "outputs": [],
      "source": [
        "from sklearn.model_selection import train_test_split\n",
        "\n",
        "train, test = train_test_split(df, test_size=0.2)"
      ]
    },
    {
      "cell_type": "code",
      "execution_count": null,
      "id": "a9682e4c",
      "metadata": {
        "id": "a9682e4c",
        "outputId": "11112386-769a-4d2d-8abb-99dcf72c7f32"
      },
      "outputs": [
        {
          "data": {
            "text/plain": [
              "((25569, 7), (6393, 7))"
            ]
          },
          "execution_count": 17,
          "metadata": {},
          "output_type": "execute_result"
        }
      ],
      "source": [
        "train.shape, test.shape"
      ]
    },
    {
      "cell_type": "code",
      "execution_count": null,
      "id": "50b99db4",
      "metadata": {
        "id": "50b99db4"
      },
      "outputs": [],
      "source": [
        "train.to_csv(\"Fasttext_Tweet.train\", columns=[\"Label_Tweet\"], index=False, header=False)\n",
        "test.to_csv(\"Fasttext_Tweet.test\", columns=[\"Label_Tweet\"], index=False, header=False)"
      ]
    },
    {
      "cell_type": "markdown",
      "id": "3d54f678",
      "metadata": {
        "id": "3d54f678"
      },
      "source": [
        "**Train the model and evaluate performance**"
      ]
    },
    {
      "cell_type": "code",
      "execution_count": null,
      "id": "97b9e30a",
      "metadata": {
        "id": "97b9e30a",
        "outputId": "3a36c049-cd57-4bd3-93bc-a551681608f9"
      },
      "outputs": [
        {
          "data": {
            "text/plain": [
              "(6393, 0.9630846238072892, 0.9630846238072892)"
            ]
          },
          "execution_count": 19,
          "metadata": {},
          "output_type": "execute_result"
        }
      ],
      "source": [
        "import fasttext\n",
        "\n",
        "model = fasttext.train_supervised(input=\"Fasttext_Tweet.train\",lr=0.8, epoch=125, wordNgrams=2)\n",
        "model.test(\"Fasttext_Tweet.test\")"
      ]
    },
    {
      "cell_type": "markdown",
      "id": "967989a8",
      "metadata": {
        "id": "967989a8"
      },
      "source": [
        "First parameter (6393) is test size. Second and third parameters are precision and recall respectively. You can see we are getting around 96% precision which is pretty good"
      ]
    },
    {
      "cell_type": "markdown",
      "id": "00192014",
      "metadata": {
        "id": "00192014"
      },
      "source": [
        "**Now let's do prediction for few some tweets**"
      ]
    },
    {
      "cell_type": "code",
      "execution_count": null,
      "id": "36a04dec",
      "metadata": {
        "id": "36a04dec",
        "outputId": "1978b80f-059d-4a9e-cc6b-f58c99f7b82a"
      },
      "outputs": [
        {
          "data": {
            "text/plain": [
              "(('__label__none_hate',), array([0.89875108]))"
            ]
          },
          "execution_count": 20,
          "metadata": {},
          "output_type": "execute_result"
        }
      ],
      "source": [
        "model.predict(\"i dont like when women got lesser sallary than man\")"
      ]
    },
    {
      "cell_type": "code",
      "execution_count": null,
      "id": "4fc28859-9558-48e9-9d68-8cb50e86587e",
      "metadata": {
        "id": "4fc28859-9558-48e9-9d68-8cb50e86587e",
        "outputId": "1268c3e3-ad0b-41ba-8a1b-b2d54dd28445"
      },
      "outputs": [
        {
          "data": {
            "text/plain": [
              "(('__label__none_hate',), array([0.98239154]))"
            ]
          },
          "execution_count": 21,
          "metadata": {},
          "output_type": "execute_result"
        }
      ],
      "source": [
        "model.predict(\"Sometimes, you think that you want to disappear, but all you really want is to be found.\")"
      ]
    },
    {
      "cell_type": "code",
      "execution_count": null,
      "id": "d19483dc-1814-4260-844f-ba746b244d40",
      "metadata": {
        "id": "d19483dc-1814-4260-844f-ba746b244d40",
        "outputId": "7dd6ed4e-3eb1-4700-d3bf-f01be5642237"
      },
      "outputs": [
        {
          "data": {
            "text/plain": [
              "(('__label__none_hate',), array([0.99907213]))"
            ]
          },
          "execution_count": 22,
          "metadata": {},
          "output_type": "execute_result"
        }
      ],
      "source": [
        "model.predict(\"Even the darkest night will end, and the sun will rise.\")"
      ]
    },
    {
      "cell_type": "code",
      "execution_count": null,
      "id": "f595d690-4bd9-4f9a-bd6b-a30c9aa24787",
      "metadata": {
        "id": "f595d690-4bd9-4f9a-bd6b-a30c9aa24787",
        "outputId": "1bd17745-5785-4061-f954-d73ee0a5c689"
      },
      "outputs": [
        {
          "data": {
            "text/plain": [
              "(('__label__none_hate',), array([0.99944967]))"
            ]
          },
          "execution_count": 23,
          "metadata": {},
          "output_type": "execute_result"
        }
      ],
      "source": [
        "model.predict(\"You are not born a winner. You are not born a loser. You are born a chooser.\")"
      ]
    },
    {
      "cell_type": "code",
      "execution_count": null,
      "id": "ab103941",
      "metadata": {
        "id": "ab103941",
        "outputId": "d0b18a30-d812-4a98-d699-140609afe25c"
      },
      "outputs": [
        {
          "data": {
            "text/plain": [
              "(('__label__hate',), array([0.99872649]))"
            ]
          },
          "execution_count": 24,
          "metadata": {},
          "output_type": "execute_result"
        }
      ],
      "source": [
        "model.predict(\"\ttweet78\t@user hey, white people: you can call people 'white' by @user  #race  #identity #medâ¦\")"
      ]
    },
    {
      "cell_type": "code",
      "execution_count": null,
      "id": "6bd3fc10",
      "metadata": {
        "scrolled": true,
        "id": "6bd3fc10",
        "outputId": "ab558c3a-a749-4322-a38e-2740193257c1"
      },
      "outputs": [
        {
          "data": {
            "text/plain": [
              "(('__label__none_hate',), array([0.65334427]))"
            ]
          },
          "execution_count": 25,
          "metadata": {},
          "output_type": "execute_result"
        }
      ],
      "source": [
        "model.predict(\"\ttweet57\t@user lets fight against \")"
      ]
    },
    {
      "cell_type": "code",
      "execution_count": null,
      "id": "2b16fafe-8714-4180-b999-95f4283edbb0",
      "metadata": {
        "id": "2b16fafe-8714-4180-b999-95f4283edbb0"
      },
      "outputs": [],
      "source": []
    }
  ],
  "metadata": {
    "kernelspec": {
      "display_name": "Python 3 (ipykernel)",
      "language": "python",
      "name": "python3"
    },
    "language_info": {
      "codemirror_mode": {
        "name": "ipython",
        "version": 3
      },
      "file_extension": ".py",
      "mimetype": "text/x-python",
      "name": "python",
      "nbconvert_exporter": "python",
      "pygments_lexer": "ipython3",
      "version": "3.9.13"
    },
    "colab": {
      "provenance": []
    }
  },
  "nbformat": 4,
  "nbformat_minor": 5
}
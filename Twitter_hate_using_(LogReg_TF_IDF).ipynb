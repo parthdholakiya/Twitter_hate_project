{
  "cells": [
    {
      "cell_type": "markdown",
      "id": "3ab87d2f",
      "metadata": {
        "id": "3ab87d2f"
      },
      "source": [
        "## Help Twitter Combat Hate Speech Using NLP and ML"
      ]
    },
    {
      "cell_type": "markdown",
      "id": "9eea0c4e",
      "metadata": {
        "id": "9eea0c4e"
      },
      "source": [
        "\n",
        "Twitter is the biggest platform where anybody and everybody can have their views heard. Some of these voices spread hate and negativity. Twitter is wary of its platform being used as a medium to spread hate.\n",
        "\n",
        "You are a data scientist at Twitter, and you will help Twitter in identifying the tweets with hate speech and removing them from the platform. You will use NLP techniques, perform specific cleanup for tweets data, and make a robust model.\n",
        "\n",
        "Domain: Social Media\n",
        "\n",
        "Analysis to be done: Clean up tweets and build a classification model by using NLP techniques, cleanup specific for tweets data, regularization and hyperparameter tuning using stratified k-fold and cross validation to get the best model.\n",
        "\n",
        "Content:\n",
        "\n",
        "id: identifier number of the tweet\n",
        "\n",
        "Label: 0 (non-hate) /1 (hate)\n",
        "\n",
        "Tweet: the text in the tweet\n",
        "\n",
        "Tasks:\n",
        "\n",
        "1, Load the tweets file using read_csv function from Pandas package.\n",
        "\n",
        "2, Get the tweets into a list for easy text cleanup and manipulation.\n",
        "\n",
        "To cleanup:\n",
        "\n",
        "--- Normalize the casing.\n",
        "\n",
        "--- Using regular expressions, remove user handles. These begin with '@’.\n",
        "\n",
        "--- Using regular expressions, remove URLs.\n",
        "\n",
        "--- Using TweetTokenizer from NLTK, tokenize the tweets into individual terms.\n",
        "\n",
        "--- Remove stop words.\n",
        "\n",
        "--- Remove redundant terms like ‘amp’, ‘rt’, etc.\n",
        "\n",
        "--- Remove ‘#’ symbols from the tweet while retaining the term.\n",
        "\n",
        "(4), Extra cleanup by removing terms with a length of 1.\n",
        "\n",
        "(5), Check out the top terms in the tweets:\n",
        "\n",
        "--- First, get all the tokenized terms into one large list.\n",
        "\n",
        "--- Use the counter and find the 10 most common terms.\n",
        "\n",
        "(6), Data formatting for predictive modeling:\n",
        "\n",
        "---Join the tokens back to form strings. This will be required for the vectorizers.\n",
        "\n",
        "---Assign x and y.\n",
        "\n",
        "---Perform train_test_split using sklearn.\n",
        "\n",
        "(7), We’ll use TF-IDF values for the terms as a feature to get into a vector space model.\n",
        "\n",
        "---Import TF-IDF vectorizer from sklearn.\n",
        "\n",
        "---Instantiate with a maximum of 5000 terms in your vocabulary.\n",
        "\n",
        "---Fit and apply on the train set.\n",
        "\n",
        "---Apply on the test set.\n",
        "\n",
        "(8), Model building: Ordinary Logistic Regression\n",
        "\n",
        "---Instantiate Logistic Regression from sklearn with default parameters.\n",
        "\n",
        "---Fit into the train data.\n",
        "\n",
        "---Make predictions for the train and the test set.\n",
        "\n",
        "(9), Model evaluation: Accuracy, recall, and f_1 score.\n",
        "\n",
        "Report the accuracy on the train set.\n",
        "\n",
        "---Report the recall on the train set: decent, high, or low.\n",
        "\n",
        "---Get the f1 score on the train set.\n",
        "\n",
        "(10), Looks like you need to adjust the class imbalance, as the model seems to focus on the 0s.\n",
        "\n",
        "---Adjust the appropriate class in the LogisticRegression model.\n",
        "\n",
        "(11), Train again with the adjustment and evaluate.\n",
        "\n",
        "---Train the model on the train set.\n",
        "\n",
        "---Evaluate the predictions on the train set: accuracy, recall, and f_1 score.\n",
        "\n",
        "(12), Regularization and Hyperparameter tuning:\n",
        "\n",
        "---Import GridSearch and StratifiedKFold because of class imbalance.\n",
        "\n",
        "---Provide the parameter grid to choose for ‘C’ and ‘penalty’ parameters.\n",
        "\n",
        "---Use a balanced class weight while instantiating the logistic regression.\n",
        "\n",
        "(13), Find the parameters with the best recall in cross-validation.\n",
        "\n",
        "---Choose ‘recall’ as the metric for scoring.\n",
        "\n",
        "---Choose a stratified 4 fold cross-validation scheme.\n",
        "\n",
        "---Fit into the train set.\n",
        "\n",
        "(14), What are the best parameters?\n",
        "\n",
        "(15), Predict and evaluate using the best estimator.\n",
        "\n",
        "---Use the best estimator from the grid search to make predictions on the test set.\n",
        "\n",
        "---What is the recall on the test set for the toxic comments?\n",
        "\n",
        "---What is the f_1 score?\n"
      ]
    },
    {
      "cell_type": "markdown",
      "id": "d5401faf",
      "metadata": {
        "id": "d5401faf"
      },
      "source": [
        "### import necessary libraries"
      ]
    },
    {
      "cell_type": "code",
      "execution_count": null,
      "id": "7b3d57ac",
      "metadata": {
        "id": "7b3d57ac"
      },
      "outputs": [],
      "source": [
        "import numpy as np\n",
        "import pandas as pd\n",
        "from sklearn.model_selection import train_test_split\n",
        "from sklearn.feature_extraction.text import CountVectorizer\n",
        "from sklearn.linear_model import LogisticRegression\n",
        "from sklearn.metrics import accuracy_score\n",
        "\n",
        "import nltk\n",
        "from nltk.corpus import stopwords\n",
        "from nltk.classify import SklearnClassifier\n",
        "from nltk.tokenize import word_tokenize\n",
        "\n",
        "from wordcloud import WordCloud,STOPWORDS\n",
        "import matplotlib.pyplot as plt\n",
        "%matplotlib inline\n",
        "\n",
        "from subprocess import check_output\n",
        "\n",
        "import nltk\n",
        "from nltk.tokenize import TweetTokenizer\n",
        "import re\n",
        "import string\n",
        "import re\n",
        "import nltk\n",
        "#nltk.download('stopwords')\n",
        "from nltk.corpus import stopwords\n",
        "#from nltk.stem.porter import PorterStemme\n",
        "from nltk.stem import PorterStemmer\n",
        "ps = PorterStemmer()"
      ]
    },
    {
      "cell_type": "code",
      "execution_count": null,
      "id": "e0f1e378-f8f6-4272-9e60-372a8842fbff",
      "metadata": {
        "tags": [],
        "id": "e0f1e378-f8f6-4272-9e60-372a8842fbff"
      },
      "outputs": [],
      "source": [
        "# import nltk\n",
        "# nltk.download('all')"
      ]
    },
    {
      "cell_type": "code",
      "execution_count": null,
      "id": "307d04d5-6919-461f-8a1d-79ad7f36e49b",
      "metadata": {
        "id": "307d04d5-6919-461f-8a1d-79ad7f36e49b"
      },
      "outputs": [],
      "source": [
        "\n"
      ]
    },
    {
      "cell_type": "markdown",
      "id": "6f3cf3cd",
      "metadata": {
        "id": "6f3cf3cd"
      },
      "source": [
        "## 1. Load tweets file using read_csv function from Pandas"
      ]
    },
    {
      "cell_type": "code",
      "execution_count": null,
      "id": "b6f8c2d8",
      "metadata": {
        "id": "b6f8c2d8",
        "outputId": "46e9638a-3618-4bd1-f9da-b308b9eccd4a"
      },
      "outputs": [
        {
          "data": {
            "text/plain": [
              "(31962, 3)"
            ]
          },
          "execution_count": 3,
          "metadata": {},
          "output_type": "execute_result"
        }
      ],
      "source": [
        "# Import dataset\n",
        "Twitter_Data = pd.read_csv('TwitterHate.csv')\n",
        "Twitter_Data.shape"
      ]
    },
    {
      "cell_type": "code",
      "execution_count": null,
      "id": "fefd8e15",
      "metadata": {
        "id": "fefd8e15",
        "outputId": "684fc7a1-09e4-43c7-b585-9c7b1e420c98"
      },
      "outputs": [
        {
          "data": {
            "text/html": [
              "<div>\n",
              "<style scoped>\n",
              "    .dataframe tbody tr th:only-of-type {\n",
              "        vertical-align: middle;\n",
              "    }\n",
              "\n",
              "    .dataframe tbody tr th {\n",
              "        vertical-align: top;\n",
              "    }\n",
              "\n",
              "    .dataframe thead th {\n",
              "        text-align: right;\n",
              "    }\n",
              "</style>\n",
              "<table border=\"1\" class=\"dataframe\">\n",
              "  <thead>\n",
              "    <tr style=\"text-align: right;\">\n",
              "      <th></th>\n",
              "      <th>id</th>\n",
              "      <th>label</th>\n",
              "      <th>tweet</th>\n",
              "    </tr>\n",
              "  </thead>\n",
              "  <tbody>\n",
              "    <tr>\n",
              "      <th>0</th>\n",
              "      <td>1</td>\n",
              "      <td>0</td>\n",
              "      <td>@user when a father is dysfunctional and is s...</td>\n",
              "    </tr>\n",
              "    <tr>\n",
              "      <th>1</th>\n",
              "      <td>2</td>\n",
              "      <td>0</td>\n",
              "      <td>@user @user thanks for #lyft credit i can't us...</td>\n",
              "    </tr>\n",
              "    <tr>\n",
              "      <th>2</th>\n",
              "      <td>3</td>\n",
              "      <td>0</td>\n",
              "      <td>bihday your majesty</td>\n",
              "    </tr>\n",
              "  </tbody>\n",
              "</table>\n",
              "</div>"
            ],
            "text/plain": [
              "   id  label                                              tweet\n",
              "0   1      0   @user when a father is dysfunctional and is s...\n",
              "1   2      0  @user @user thanks for #lyft credit i can't us...\n",
              "2   3      0                                bihday your majesty"
            ]
          },
          "execution_count": 4,
          "metadata": {},
          "output_type": "execute_result"
        }
      ],
      "source": [
        "Twitter_Data.head(3)"
      ]
    },
    {
      "cell_type": "code",
      "execution_count": null,
      "id": "78a0beff",
      "metadata": {
        "id": "78a0beff",
        "outputId": "c0c72121-69fc-481c-e888-fd4c078e3345"
      },
      "outputs": [
        {
          "data": {
            "text/plain": [
              "(31962, 2)"
            ]
          },
          "execution_count": 5,
          "metadata": {},
          "output_type": "execute_result"
        }
      ],
      "source": [
        "# Retain only neccessary columns\n",
        "Twitter_Data = Twitter_Data[['label','tweet']]\n",
        "Twitter_Data.shape"
      ]
    },
    {
      "cell_type": "code",
      "execution_count": null,
      "id": "2bd76d69",
      "metadata": {
        "id": "2bd76d69",
        "outputId": "aa2fee81-0bfc-4550-8e5b-5bdbdb6369fc"
      },
      "outputs": [
        {
          "data": {
            "text/plain": [
              "0    29720\n",
              "1     2242\n",
              "Name: label, dtype: int64"
            ]
          },
          "execution_count": 6,
          "metadata": {},
          "output_type": "execute_result"
        }
      ],
      "source": [
        "Twitter_Data.label.value_counts()"
      ]
    },
    {
      "cell_type": "code",
      "execution_count": null,
      "id": "a2920bb4-fcf6-4a9e-8c42-a787157793f1",
      "metadata": {
        "id": "a2920bb4-fcf6-4a9e-8c42-a787157793f1"
      },
      "outputs": [],
      "source": []
    },
    {
      "cell_type": "code",
      "execution_count": null,
      "id": "c437f2e5-8ebc-4126-b303-9fcc71a77542",
      "metadata": {
        "id": "c437f2e5-8ebc-4126-b303-9fcc71a77542"
      },
      "outputs": [],
      "source": [
        "def preprocessing(data):\n",
        "    stemmer = nltk.stem.RSLPStemmer()\n",
        "    all_stopwords = stopwords.words('english')\n",
        "    all_stopwords.remove('not')\n",
        "    corpus = []\n",
        "    for tweet in data:\n",
        "\n",
        "        review = re.sub(r\"@[A-Za-z0-9_]+\", \" \", tweet)\n",
        "        review = re.sub('RT', ' ', review)\n",
        "        review = re.sub(r\"https?://[A-Za-z0-9./]+\", \" \", review)\n",
        "        review = re.sub(r\"https?\", \" \", review)\n",
        "        review = re.sub('[^a-zA-Z]', ' ', review)\n",
        "        review = review.lower()\n",
        "        review = review.split()\n",
        "        ps = PorterStemmer()\n",
        "        review = [ps.stem(word) for word in review if not word in set(all_stopwords) if len(word) > 2]\n",
        "        review = ' '.join(review)\n",
        "        corpus.append(review)\n",
        "\n",
        "    return np.array(corpus)"
      ]
    },
    {
      "cell_type": "code",
      "execution_count": null,
      "id": "f5d5a1ae-0e29-416e-ba8d-d29d3fccede2",
      "metadata": {
        "id": "f5d5a1ae-0e29-416e-ba8d-d29d3fccede2"
      },
      "outputs": [],
      "source": [
        "Twitter_Data['cleen_tweet'] = preprocessing(Twitter_Data['tweet'].values)"
      ]
    },
    {
      "cell_type": "code",
      "execution_count": null,
      "id": "9af01f9f-6be4-4efc-a6f7-4dc84fe318b8",
      "metadata": {
        "id": "9af01f9f-6be4-4efc-a6f7-4dc84fe318b8",
        "outputId": "c6e47512-a69b-4903-cf5c-10eef722ca4d"
      },
      "outputs": [
        {
          "data": {
            "text/html": [
              "<div>\n",
              "<style scoped>\n",
              "    .dataframe tbody tr th:only-of-type {\n",
              "        vertical-align: middle;\n",
              "    }\n",
              "\n",
              "    .dataframe tbody tr th {\n",
              "        vertical-align: top;\n",
              "    }\n",
              "\n",
              "    .dataframe thead th {\n",
              "        text-align: right;\n",
              "    }\n",
              "</style>\n",
              "<table border=\"1\" class=\"dataframe\">\n",
              "  <thead>\n",
              "    <tr style=\"text-align: right;\">\n",
              "      <th></th>\n",
              "      <th>label</th>\n",
              "      <th>tweet</th>\n",
              "      <th>cleen_tweet</th>\n",
              "    </tr>\n",
              "  </thead>\n",
              "  <tbody>\n",
              "    <tr>\n",
              "      <th>0</th>\n",
              "      <td>0</td>\n",
              "      <td>@user when a father is dysfunctional and is s...</td>\n",
              "      <td>father dysfunct selfish drag kid dysfunct run</td>\n",
              "    </tr>\n",
              "    <tr>\n",
              "      <th>1</th>\n",
              "      <td>0</td>\n",
              "      <td>@user @user thanks for #lyft credit i can't us...</td>\n",
              "      <td>thank lyft credit use caus offer wheelchair va...</td>\n",
              "    </tr>\n",
              "    <tr>\n",
              "      <th>2</th>\n",
              "      <td>0</td>\n",
              "      <td>bihday your majesty</td>\n",
              "      <td>bihday majesti</td>\n",
              "    </tr>\n",
              "    <tr>\n",
              "      <th>3</th>\n",
              "      <td>0</td>\n",
              "      <td>#model   i love u take with u all the time in ...</td>\n",
              "      <td>model love take time</td>\n",
              "    </tr>\n",
              "    <tr>\n",
              "      <th>4</th>\n",
              "      <td>0</td>\n",
              "      <td>factsguide: society now    #motivation</td>\n",
              "      <td>factsguid societi motiv</td>\n",
              "    </tr>\n",
              "  </tbody>\n",
              "</table>\n",
              "</div>"
            ],
            "text/plain": [
              "   label                                              tweet  \\\n",
              "0      0   @user when a father is dysfunctional and is s...   \n",
              "1      0  @user @user thanks for #lyft credit i can't us...   \n",
              "2      0                                bihday your majesty   \n",
              "3      0  #model   i love u take with u all the time in ...   \n",
              "4      0             factsguide: society now    #motivation   \n",
              "\n",
              "                                         cleen_tweet  \n",
              "0      father dysfunct selfish drag kid dysfunct run  \n",
              "1  thank lyft credit use caus offer wheelchair va...  \n",
              "2                                     bihday majesti  \n",
              "3                               model love take time  \n",
              "4                            factsguid societi motiv  "
            ]
          },
          "execution_count": 9,
          "metadata": {},
          "output_type": "execute_result"
        }
      ],
      "source": [
        "Twitter_Data.head()"
      ]
    },
    {
      "cell_type": "markdown",
      "id": "18d1384f",
      "metadata": {
        "id": "18d1384f"
      },
      "source": [
        "###  Data formatting for predictive modeling"
      ]
    },
    {
      "cell_type": "code",
      "execution_count": null,
      "id": "4b9a0949",
      "metadata": {
        "id": "4b9a0949",
        "outputId": "62d7b204-6b46-4119-fc46-bdc28da466b4",
        "scrolled": true
      },
      "outputs": [
        {
          "name": "stdout",
          "output_type": "stream",
          "text": [
            "(31962,)\n",
            "(31962,)\n"
          ]
        }
      ],
      "source": [
        "X = Twitter_Data.cleen_tweet\n",
        "y = Twitter_Data.label\n",
        "\n",
        "print(X.shape)\n",
        "print(y.shape)"
      ]
    },
    {
      "cell_type": "markdown",
      "id": "c79c21e4",
      "metadata": {
        "id": "c79c21e4"
      },
      "source": [
        "####  Perform train_test_split using sklearn"
      ]
    },
    {
      "cell_type": "code",
      "execution_count": null,
      "id": "3cd358be",
      "metadata": {
        "id": "3cd358be",
        "outputId": "b18729a4-681e-4e3a-bfab-5478e8e31733"
      },
      "outputs": [
        {
          "name": "stdout",
          "output_type": "stream",
          "text": [
            "(23971,)\n",
            "(7991,)\n",
            "(23971,)\n",
            "(7991,)\n"
          ]
        }
      ],
      "source": [
        "# split X and y into training ans testing sets\n",
        "X_train, X_test, y_train, y_test = train_test_split(X, y, test_size=0.25, random_state=1)\n",
        "print(X_train.shape)\n",
        "print(X_test.shape)\n",
        "print(y_train.shape)\n",
        "print(y_test.shape)"
      ]
    },
    {
      "cell_type": "markdown",
      "id": "5d1e501a",
      "metadata": {
        "id": "5d1e501a"
      },
      "source": [
        "###  Use TF-IDF values for the terms as a feature to get into a vector space model"
      ]
    },
    {
      "cell_type": "markdown",
      "id": "8a30436b",
      "metadata": {
        "id": "8a30436b"
      },
      "source": [
        "#### 1. Import TF-IDF vectorizer from sklearn"
      ]
    },
    {
      "cell_type": "code",
      "execution_count": null,
      "id": "cdb683f9",
      "metadata": {
        "id": "cdb683f9"
      },
      "outputs": [],
      "source": [
        "from sklearn.feature_extraction.text import TfidfVectorizer"
      ]
    },
    {
      "cell_type": "markdown",
      "id": "6b3cbe6d",
      "metadata": {
        "id": "6b3cbe6d"
      },
      "source": [
        "#### 2. Instantiate with a maximum of 5000 terms in your vocabulary"
      ]
    },
    {
      "cell_type": "code",
      "execution_count": null,
      "id": "8ef31485",
      "metadata": {
        "id": "8ef31485"
      },
      "outputs": [],
      "source": [
        "# instantiate the vectorizer\n",
        "vect_tfidf = TfidfVectorizer(analyzer='word')"
      ]
    },
    {
      "cell_type": "markdown",
      "id": "d5db028c",
      "metadata": {
        "id": "d5db028c"
      },
      "source": [
        "#### 3. Fit and apply on the train set"
      ]
    },
    {
      "cell_type": "code",
      "execution_count": null,
      "id": "092f0d12",
      "metadata": {
        "id": "092f0d12"
      },
      "outputs": [],
      "source": [
        "vect_tfidf.fit(X_train)\n",
        "X_train_tfidf_dtm = vect_tfidf.transform(X_train)"
      ]
    },
    {
      "cell_type": "code",
      "execution_count": null,
      "id": "da8e85be",
      "metadata": {
        "id": "da8e85be",
        "outputId": "703bb49b-490e-4382-fea2-cfc37e58fae5"
      },
      "outputs": [
        {
          "data": {
            "text/html": [
              "<div>\n",
              "<style scoped>\n",
              "    .dataframe tbody tr th:only-of-type {\n",
              "        vertical-align: middle;\n",
              "    }\n",
              "\n",
              "    .dataframe tbody tr th {\n",
              "        vertical-align: top;\n",
              "    }\n",
              "\n",
              "    .dataframe thead th {\n",
              "        text-align: right;\n",
              "    }\n",
              "</style>\n",
              "<table border=\"1\" class=\"dataframe\">\n",
              "  <thead>\n",
              "    <tr style=\"text-align: right;\">\n",
              "      <th></th>\n",
              "      <th>aaa</th>\n",
              "      <th>aaaaa</th>\n",
              "      <th>aaaaaand</th>\n",
              "      <th>aaaaah</th>\n",
              "      <th>aaaaand</th>\n",
              "      <th>aaahh</th>\n",
              "      <th>aaahhhh</th>\n",
              "      <th>aaahhhhh</th>\n",
              "      <th>aaand</th>\n",
              "      <th>aaawwwww</th>\n",
              "      <th>...</th>\n",
              "      <th>zovik</th>\n",
              "      <th>zpamdelacruz</th>\n",
              "      <th>zshq</th>\n",
              "      <th>zucchini</th>\n",
              "      <th>zuma</th>\n",
              "      <th>zumba</th>\n",
              "      <th>zurich</th>\n",
              "      <th>zydeco</th>\n",
              "      <th>zzz</th>\n",
              "      <th>zzzzzzzz</th>\n",
              "    </tr>\n",
              "  </thead>\n",
              "  <tbody>\n",
              "    <tr>\n",
              "      <th>0</th>\n",
              "      <td>0.0</td>\n",
              "      <td>0.0</td>\n",
              "      <td>0.0</td>\n",
              "      <td>0.0</td>\n",
              "      <td>0.0</td>\n",
              "      <td>0.0</td>\n",
              "      <td>0.0</td>\n",
              "      <td>0.0</td>\n",
              "      <td>0.0</td>\n",
              "      <td>0.0</td>\n",
              "      <td>...</td>\n",
              "      <td>0.0</td>\n",
              "      <td>0.0</td>\n",
              "      <td>0.0</td>\n",
              "      <td>0.0</td>\n",
              "      <td>0.0</td>\n",
              "      <td>0.0</td>\n",
              "      <td>0.0</td>\n",
              "      <td>0.0</td>\n",
              "      <td>0.0</td>\n",
              "      <td>0.0</td>\n",
              "    </tr>\n",
              "    <tr>\n",
              "      <th>1</th>\n",
              "      <td>0.0</td>\n",
              "      <td>0.0</td>\n",
              "      <td>0.0</td>\n",
              "      <td>0.0</td>\n",
              "      <td>0.0</td>\n",
              "      <td>0.0</td>\n",
              "      <td>0.0</td>\n",
              "      <td>0.0</td>\n",
              "      <td>0.0</td>\n",
              "      <td>0.0</td>\n",
              "      <td>...</td>\n",
              "      <td>0.0</td>\n",
              "      <td>0.0</td>\n",
              "      <td>0.0</td>\n",
              "      <td>0.0</td>\n",
              "      <td>0.0</td>\n",
              "      <td>0.0</td>\n",
              "      <td>0.0</td>\n",
              "      <td>0.0</td>\n",
              "      <td>0.0</td>\n",
              "      <td>0.0</td>\n",
              "    </tr>\n",
              "    <tr>\n",
              "      <th>2</th>\n",
              "      <td>0.0</td>\n",
              "      <td>0.0</td>\n",
              "      <td>0.0</td>\n",
              "      <td>0.0</td>\n",
              "      <td>0.0</td>\n",
              "      <td>0.0</td>\n",
              "      <td>0.0</td>\n",
              "      <td>0.0</td>\n",
              "      <td>0.0</td>\n",
              "      <td>0.0</td>\n",
              "      <td>...</td>\n",
              "      <td>0.0</td>\n",
              "      <td>0.0</td>\n",
              "      <td>0.0</td>\n",
              "      <td>0.0</td>\n",
              "      <td>0.0</td>\n",
              "      <td>0.0</td>\n",
              "      <td>0.0</td>\n",
              "      <td>0.0</td>\n",
              "      <td>0.0</td>\n",
              "      <td>0.0</td>\n",
              "    </tr>\n",
              "    <tr>\n",
              "      <th>3</th>\n",
              "      <td>0.0</td>\n",
              "      <td>0.0</td>\n",
              "      <td>0.0</td>\n",
              "      <td>0.0</td>\n",
              "      <td>0.0</td>\n",
              "      <td>0.0</td>\n",
              "      <td>0.0</td>\n",
              "      <td>0.0</td>\n",
              "      <td>0.0</td>\n",
              "      <td>0.0</td>\n",
              "      <td>...</td>\n",
              "      <td>0.0</td>\n",
              "      <td>0.0</td>\n",
              "      <td>0.0</td>\n",
              "      <td>0.0</td>\n",
              "      <td>0.0</td>\n",
              "      <td>0.0</td>\n",
              "      <td>0.0</td>\n",
              "      <td>0.0</td>\n",
              "      <td>0.0</td>\n",
              "      <td>0.0</td>\n",
              "    </tr>\n",
              "    <tr>\n",
              "      <th>4</th>\n",
              "      <td>0.0</td>\n",
              "      <td>0.0</td>\n",
              "      <td>0.0</td>\n",
              "      <td>0.0</td>\n",
              "      <td>0.0</td>\n",
              "      <td>0.0</td>\n",
              "      <td>0.0</td>\n",
              "      <td>0.0</td>\n",
              "      <td>0.0</td>\n",
              "      <td>0.0</td>\n",
              "      <td>...</td>\n",
              "      <td>0.0</td>\n",
              "      <td>0.0</td>\n",
              "      <td>0.0</td>\n",
              "      <td>0.0</td>\n",
              "      <td>0.0</td>\n",
              "      <td>0.0</td>\n",
              "      <td>0.0</td>\n",
              "      <td>0.0</td>\n",
              "      <td>0.0</td>\n",
              "      <td>0.0</td>\n",
              "    </tr>\n",
              "    <tr>\n",
              "      <th>...</th>\n",
              "      <td>...</td>\n",
              "      <td>...</td>\n",
              "      <td>...</td>\n",
              "      <td>...</td>\n",
              "      <td>...</td>\n",
              "      <td>...</td>\n",
              "      <td>...</td>\n",
              "      <td>...</td>\n",
              "      <td>...</td>\n",
              "      <td>...</td>\n",
              "      <td>...</td>\n",
              "      <td>...</td>\n",
              "      <td>...</td>\n",
              "      <td>...</td>\n",
              "      <td>...</td>\n",
              "      <td>...</td>\n",
              "      <td>...</td>\n",
              "      <td>...</td>\n",
              "      <td>...</td>\n",
              "      <td>...</td>\n",
              "      <td>...</td>\n",
              "    </tr>\n",
              "    <tr>\n",
              "      <th>23966</th>\n",
              "      <td>0.0</td>\n",
              "      <td>0.0</td>\n",
              "      <td>0.0</td>\n",
              "      <td>0.0</td>\n",
              "      <td>0.0</td>\n",
              "      <td>0.0</td>\n",
              "      <td>0.0</td>\n",
              "      <td>0.0</td>\n",
              "      <td>0.0</td>\n",
              "      <td>0.0</td>\n",
              "      <td>...</td>\n",
              "      <td>0.0</td>\n",
              "      <td>0.0</td>\n",
              "      <td>0.0</td>\n",
              "      <td>0.0</td>\n",
              "      <td>0.0</td>\n",
              "      <td>0.0</td>\n",
              "      <td>0.0</td>\n",
              "      <td>0.0</td>\n",
              "      <td>0.0</td>\n",
              "      <td>0.0</td>\n",
              "    </tr>\n",
              "    <tr>\n",
              "      <th>23967</th>\n",
              "      <td>0.0</td>\n",
              "      <td>0.0</td>\n",
              "      <td>0.0</td>\n",
              "      <td>0.0</td>\n",
              "      <td>0.0</td>\n",
              "      <td>0.0</td>\n",
              "      <td>0.0</td>\n",
              "      <td>0.0</td>\n",
              "      <td>0.0</td>\n",
              "      <td>0.0</td>\n",
              "      <td>...</td>\n",
              "      <td>0.0</td>\n",
              "      <td>0.0</td>\n",
              "      <td>0.0</td>\n",
              "      <td>0.0</td>\n",
              "      <td>0.0</td>\n",
              "      <td>0.0</td>\n",
              "      <td>0.0</td>\n",
              "      <td>0.0</td>\n",
              "      <td>0.0</td>\n",
              "      <td>0.0</td>\n",
              "    </tr>\n",
              "    <tr>\n",
              "      <th>23968</th>\n",
              "      <td>0.0</td>\n",
              "      <td>0.0</td>\n",
              "      <td>0.0</td>\n",
              "      <td>0.0</td>\n",
              "      <td>0.0</td>\n",
              "      <td>0.0</td>\n",
              "      <td>0.0</td>\n",
              "      <td>0.0</td>\n",
              "      <td>0.0</td>\n",
              "      <td>0.0</td>\n",
              "      <td>...</td>\n",
              "      <td>0.0</td>\n",
              "      <td>0.0</td>\n",
              "      <td>0.0</td>\n",
              "      <td>0.0</td>\n",
              "      <td>0.0</td>\n",
              "      <td>0.0</td>\n",
              "      <td>0.0</td>\n",
              "      <td>0.0</td>\n",
              "      <td>0.0</td>\n",
              "      <td>0.0</td>\n",
              "    </tr>\n",
              "    <tr>\n",
              "      <th>23969</th>\n",
              "      <td>0.0</td>\n",
              "      <td>0.0</td>\n",
              "      <td>0.0</td>\n",
              "      <td>0.0</td>\n",
              "      <td>0.0</td>\n",
              "      <td>0.0</td>\n",
              "      <td>0.0</td>\n",
              "      <td>0.0</td>\n",
              "      <td>0.0</td>\n",
              "      <td>0.0</td>\n",
              "      <td>...</td>\n",
              "      <td>0.0</td>\n",
              "      <td>0.0</td>\n",
              "      <td>0.0</td>\n",
              "      <td>0.0</td>\n",
              "      <td>0.0</td>\n",
              "      <td>0.0</td>\n",
              "      <td>0.0</td>\n",
              "      <td>0.0</td>\n",
              "      <td>0.0</td>\n",
              "      <td>0.0</td>\n",
              "    </tr>\n",
              "    <tr>\n",
              "      <th>23970</th>\n",
              "      <td>0.0</td>\n",
              "      <td>0.0</td>\n",
              "      <td>0.0</td>\n",
              "      <td>0.0</td>\n",
              "      <td>0.0</td>\n",
              "      <td>0.0</td>\n",
              "      <td>0.0</td>\n",
              "      <td>0.0</td>\n",
              "      <td>0.0</td>\n",
              "      <td>0.0</td>\n",
              "      <td>...</td>\n",
              "      <td>0.0</td>\n",
              "      <td>0.0</td>\n",
              "      <td>0.0</td>\n",
              "      <td>0.0</td>\n",
              "      <td>0.0</td>\n",
              "      <td>0.0</td>\n",
              "      <td>0.0</td>\n",
              "      <td>0.0</td>\n",
              "      <td>0.0</td>\n",
              "      <td>0.0</td>\n",
              "    </tr>\n",
              "  </tbody>\n",
              "</table>\n",
              "<p>23971 rows × 25892 columns</p>\n",
              "</div>"
            ],
            "text/plain": [
              "       aaa  aaaaa  aaaaaand  aaaaah  aaaaand  aaahh  aaahhhh  aaahhhhh  aaand  \\\n",
              "0      0.0    0.0       0.0     0.0      0.0    0.0      0.0       0.0    0.0   \n",
              "1      0.0    0.0       0.0     0.0      0.0    0.0      0.0       0.0    0.0   \n",
              "2      0.0    0.0       0.0     0.0      0.0    0.0      0.0       0.0    0.0   \n",
              "3      0.0    0.0       0.0     0.0      0.0    0.0      0.0       0.0    0.0   \n",
              "4      0.0    0.0       0.0     0.0      0.0    0.0      0.0       0.0    0.0   \n",
              "...    ...    ...       ...     ...      ...    ...      ...       ...    ...   \n",
              "23966  0.0    0.0       0.0     0.0      0.0    0.0      0.0       0.0    0.0   \n",
              "23967  0.0    0.0       0.0     0.0      0.0    0.0      0.0       0.0    0.0   \n",
              "23968  0.0    0.0       0.0     0.0      0.0    0.0      0.0       0.0    0.0   \n",
              "23969  0.0    0.0       0.0     0.0      0.0    0.0      0.0       0.0    0.0   \n",
              "23970  0.0    0.0       0.0     0.0      0.0    0.0      0.0       0.0    0.0   \n",
              "\n",
              "       aaawwwww  ...  zovik  zpamdelacruz  zshq  zucchini  zuma  zumba  \\\n",
              "0           0.0  ...    0.0           0.0   0.0       0.0   0.0    0.0   \n",
              "1           0.0  ...    0.0           0.0   0.0       0.0   0.0    0.0   \n",
              "2           0.0  ...    0.0           0.0   0.0       0.0   0.0    0.0   \n",
              "3           0.0  ...    0.0           0.0   0.0       0.0   0.0    0.0   \n",
              "4           0.0  ...    0.0           0.0   0.0       0.0   0.0    0.0   \n",
              "...         ...  ...    ...           ...   ...       ...   ...    ...   \n",
              "23966       0.0  ...    0.0           0.0   0.0       0.0   0.0    0.0   \n",
              "23967       0.0  ...    0.0           0.0   0.0       0.0   0.0    0.0   \n",
              "23968       0.0  ...    0.0           0.0   0.0       0.0   0.0    0.0   \n",
              "23969       0.0  ...    0.0           0.0   0.0       0.0   0.0    0.0   \n",
              "23970       0.0  ...    0.0           0.0   0.0       0.0   0.0    0.0   \n",
              "\n",
              "       zurich  zydeco  zzz  zzzzzzzz  \n",
              "0         0.0     0.0  0.0       0.0  \n",
              "1         0.0     0.0  0.0       0.0  \n",
              "2         0.0     0.0  0.0       0.0  \n",
              "3         0.0     0.0  0.0       0.0  \n",
              "4         0.0     0.0  0.0       0.0  \n",
              "...       ...     ...  ...       ...  \n",
              "23966     0.0     0.0  0.0       0.0  \n",
              "23967     0.0     0.0  0.0       0.0  \n",
              "23968     0.0     0.0  0.0       0.0  \n",
              "23969     0.0     0.0  0.0       0.0  \n",
              "23970     0.0     0.0  0.0       0.0  \n",
              "\n",
              "[23971 rows x 25892 columns]"
            ]
          },
          "execution_count": 15,
          "metadata": {},
          "output_type": "execute_result"
        }
      ],
      "source": [
        "# create a dataframe\n",
        "feature_names = vect_tfidf.get_feature_names_out ()\n",
        "pd.DataFrame(X_train_tfidf_dtm.toarray(), columns=feature_names)"
      ]
    },
    {
      "cell_type": "markdown",
      "id": "a7405e77",
      "metadata": {
        "id": "a7405e77"
      },
      "source": [
        "#### 4. Apply on the test set."
      ]
    },
    {
      "cell_type": "code",
      "execution_count": null,
      "id": "11770851",
      "metadata": {
        "id": "11770851"
      },
      "outputs": [],
      "source": [
        "#vectorizer.transform\n",
        "#vect_tfidf.fit(X_test)\n",
        "X_test_tfidf_dtm = vect_tfidf.transform(X_test)"
      ]
    },
    {
      "cell_type": "code",
      "execution_count": null,
      "id": "fd3d570b",
      "metadata": {
        "id": "fd3d570b",
        "outputId": "9e87324a-88fe-4feb-ba18-2ea12ade4981"
      },
      "outputs": [
        {
          "data": {
            "text/html": [
              "<div>\n",
              "<style scoped>\n",
              "    .dataframe tbody tr th:only-of-type {\n",
              "        vertical-align: middle;\n",
              "    }\n",
              "\n",
              "    .dataframe tbody tr th {\n",
              "        vertical-align: top;\n",
              "    }\n",
              "\n",
              "    .dataframe thead th {\n",
              "        text-align: right;\n",
              "    }\n",
              "</style>\n",
              "<table border=\"1\" class=\"dataframe\">\n",
              "  <thead>\n",
              "    <tr style=\"text-align: right;\">\n",
              "      <th></th>\n",
              "      <th>aaa</th>\n",
              "      <th>aaaaa</th>\n",
              "      <th>aaaaaand</th>\n",
              "      <th>aaaaah</th>\n",
              "      <th>aaaaand</th>\n",
              "      <th>aaahh</th>\n",
              "      <th>aaahhhh</th>\n",
              "      <th>aaahhhhh</th>\n",
              "      <th>aaand</th>\n",
              "      <th>aaawwwww</th>\n",
              "      <th>...</th>\n",
              "      <th>zovik</th>\n",
              "      <th>zpamdelacruz</th>\n",
              "      <th>zshq</th>\n",
              "      <th>zucchini</th>\n",
              "      <th>zuma</th>\n",
              "      <th>zumba</th>\n",
              "      <th>zurich</th>\n",
              "      <th>zydeco</th>\n",
              "      <th>zzz</th>\n",
              "      <th>zzzzzzzz</th>\n",
              "    </tr>\n",
              "  </thead>\n",
              "  <tbody>\n",
              "    <tr>\n",
              "      <th>0</th>\n",
              "      <td>0.0</td>\n",
              "      <td>0.0</td>\n",
              "      <td>0.0</td>\n",
              "      <td>0.0</td>\n",
              "      <td>0.0</td>\n",
              "      <td>0.0</td>\n",
              "      <td>0.0</td>\n",
              "      <td>0.0</td>\n",
              "      <td>0.0</td>\n",
              "      <td>0.0</td>\n",
              "      <td>...</td>\n",
              "      <td>0.0</td>\n",
              "      <td>0.0</td>\n",
              "      <td>0.0</td>\n",
              "      <td>0.0</td>\n",
              "      <td>0.0</td>\n",
              "      <td>0.0</td>\n",
              "      <td>0.0</td>\n",
              "      <td>0.0</td>\n",
              "      <td>0.0</td>\n",
              "      <td>0.0</td>\n",
              "    </tr>\n",
              "    <tr>\n",
              "      <th>1</th>\n",
              "      <td>0.0</td>\n",
              "      <td>0.0</td>\n",
              "      <td>0.0</td>\n",
              "      <td>0.0</td>\n",
              "      <td>0.0</td>\n",
              "      <td>0.0</td>\n",
              "      <td>0.0</td>\n",
              "      <td>0.0</td>\n",
              "      <td>0.0</td>\n",
              "      <td>0.0</td>\n",
              "      <td>...</td>\n",
              "      <td>0.0</td>\n",
              "      <td>0.0</td>\n",
              "      <td>0.0</td>\n",
              "      <td>0.0</td>\n",
              "      <td>0.0</td>\n",
              "      <td>0.0</td>\n",
              "      <td>0.0</td>\n",
              "      <td>0.0</td>\n",
              "      <td>0.0</td>\n",
              "      <td>0.0</td>\n",
              "    </tr>\n",
              "    <tr>\n",
              "      <th>2</th>\n",
              "      <td>0.0</td>\n",
              "      <td>0.0</td>\n",
              "      <td>0.0</td>\n",
              "      <td>0.0</td>\n",
              "      <td>0.0</td>\n",
              "      <td>0.0</td>\n",
              "      <td>0.0</td>\n",
              "      <td>0.0</td>\n",
              "      <td>0.0</td>\n",
              "      <td>0.0</td>\n",
              "      <td>...</td>\n",
              "      <td>0.0</td>\n",
              "      <td>0.0</td>\n",
              "      <td>0.0</td>\n",
              "      <td>0.0</td>\n",
              "      <td>0.0</td>\n",
              "      <td>0.0</td>\n",
              "      <td>0.0</td>\n",
              "      <td>0.0</td>\n",
              "      <td>0.0</td>\n",
              "      <td>0.0</td>\n",
              "    </tr>\n",
              "    <tr>\n",
              "      <th>3</th>\n",
              "      <td>0.0</td>\n",
              "      <td>0.0</td>\n",
              "      <td>0.0</td>\n",
              "      <td>0.0</td>\n",
              "      <td>0.0</td>\n",
              "      <td>0.0</td>\n",
              "      <td>0.0</td>\n",
              "      <td>0.0</td>\n",
              "      <td>0.0</td>\n",
              "      <td>0.0</td>\n",
              "      <td>...</td>\n",
              "      <td>0.0</td>\n",
              "      <td>0.0</td>\n",
              "      <td>0.0</td>\n",
              "      <td>0.0</td>\n",
              "      <td>0.0</td>\n",
              "      <td>0.0</td>\n",
              "      <td>0.0</td>\n",
              "      <td>0.0</td>\n",
              "      <td>0.0</td>\n",
              "      <td>0.0</td>\n",
              "    </tr>\n",
              "    <tr>\n",
              "      <th>4</th>\n",
              "      <td>0.0</td>\n",
              "      <td>0.0</td>\n",
              "      <td>0.0</td>\n",
              "      <td>0.0</td>\n",
              "      <td>0.0</td>\n",
              "      <td>0.0</td>\n",
              "      <td>0.0</td>\n",
              "      <td>0.0</td>\n",
              "      <td>0.0</td>\n",
              "      <td>0.0</td>\n",
              "      <td>...</td>\n",
              "      <td>0.0</td>\n",
              "      <td>0.0</td>\n",
              "      <td>0.0</td>\n",
              "      <td>0.0</td>\n",
              "      <td>0.0</td>\n",
              "      <td>0.0</td>\n",
              "      <td>0.0</td>\n",
              "      <td>0.0</td>\n",
              "      <td>0.0</td>\n",
              "      <td>0.0</td>\n",
              "    </tr>\n",
              "    <tr>\n",
              "      <th>...</th>\n",
              "      <td>...</td>\n",
              "      <td>...</td>\n",
              "      <td>...</td>\n",
              "      <td>...</td>\n",
              "      <td>...</td>\n",
              "      <td>...</td>\n",
              "      <td>...</td>\n",
              "      <td>...</td>\n",
              "      <td>...</td>\n",
              "      <td>...</td>\n",
              "      <td>...</td>\n",
              "      <td>...</td>\n",
              "      <td>...</td>\n",
              "      <td>...</td>\n",
              "      <td>...</td>\n",
              "      <td>...</td>\n",
              "      <td>...</td>\n",
              "      <td>...</td>\n",
              "      <td>...</td>\n",
              "      <td>...</td>\n",
              "      <td>...</td>\n",
              "    </tr>\n",
              "    <tr>\n",
              "      <th>7986</th>\n",
              "      <td>0.0</td>\n",
              "      <td>0.0</td>\n",
              "      <td>0.0</td>\n",
              "      <td>0.0</td>\n",
              "      <td>0.0</td>\n",
              "      <td>0.0</td>\n",
              "      <td>0.0</td>\n",
              "      <td>0.0</td>\n",
              "      <td>0.0</td>\n",
              "      <td>0.0</td>\n",
              "      <td>...</td>\n",
              "      <td>0.0</td>\n",
              "      <td>0.0</td>\n",
              "      <td>0.0</td>\n",
              "      <td>0.0</td>\n",
              "      <td>0.0</td>\n",
              "      <td>0.0</td>\n",
              "      <td>0.0</td>\n",
              "      <td>0.0</td>\n",
              "      <td>0.0</td>\n",
              "      <td>0.0</td>\n",
              "    </tr>\n",
              "    <tr>\n",
              "      <th>7987</th>\n",
              "      <td>0.0</td>\n",
              "      <td>0.0</td>\n",
              "      <td>0.0</td>\n",
              "      <td>0.0</td>\n",
              "      <td>0.0</td>\n",
              "      <td>0.0</td>\n",
              "      <td>0.0</td>\n",
              "      <td>0.0</td>\n",
              "      <td>0.0</td>\n",
              "      <td>0.0</td>\n",
              "      <td>...</td>\n",
              "      <td>0.0</td>\n",
              "      <td>0.0</td>\n",
              "      <td>0.0</td>\n",
              "      <td>0.0</td>\n",
              "      <td>0.0</td>\n",
              "      <td>0.0</td>\n",
              "      <td>0.0</td>\n",
              "      <td>0.0</td>\n",
              "      <td>0.0</td>\n",
              "      <td>0.0</td>\n",
              "    </tr>\n",
              "    <tr>\n",
              "      <th>7988</th>\n",
              "      <td>0.0</td>\n",
              "      <td>0.0</td>\n",
              "      <td>0.0</td>\n",
              "      <td>0.0</td>\n",
              "      <td>0.0</td>\n",
              "      <td>0.0</td>\n",
              "      <td>0.0</td>\n",
              "      <td>0.0</td>\n",
              "      <td>0.0</td>\n",
              "      <td>0.0</td>\n",
              "      <td>...</td>\n",
              "      <td>0.0</td>\n",
              "      <td>0.0</td>\n",
              "      <td>0.0</td>\n",
              "      <td>0.0</td>\n",
              "      <td>0.0</td>\n",
              "      <td>0.0</td>\n",
              "      <td>0.0</td>\n",
              "      <td>0.0</td>\n",
              "      <td>0.0</td>\n",
              "      <td>0.0</td>\n",
              "    </tr>\n",
              "    <tr>\n",
              "      <th>7989</th>\n",
              "      <td>0.0</td>\n",
              "      <td>0.0</td>\n",
              "      <td>0.0</td>\n",
              "      <td>0.0</td>\n",
              "      <td>0.0</td>\n",
              "      <td>0.0</td>\n",
              "      <td>0.0</td>\n",
              "      <td>0.0</td>\n",
              "      <td>0.0</td>\n",
              "      <td>0.0</td>\n",
              "      <td>...</td>\n",
              "      <td>0.0</td>\n",
              "      <td>0.0</td>\n",
              "      <td>0.0</td>\n",
              "      <td>0.0</td>\n",
              "      <td>0.0</td>\n",
              "      <td>0.0</td>\n",
              "      <td>0.0</td>\n",
              "      <td>0.0</td>\n",
              "      <td>0.0</td>\n",
              "      <td>0.0</td>\n",
              "    </tr>\n",
              "    <tr>\n",
              "      <th>7990</th>\n",
              "      <td>0.0</td>\n",
              "      <td>0.0</td>\n",
              "      <td>0.0</td>\n",
              "      <td>0.0</td>\n",
              "      <td>0.0</td>\n",
              "      <td>0.0</td>\n",
              "      <td>0.0</td>\n",
              "      <td>0.0</td>\n",
              "      <td>0.0</td>\n",
              "      <td>0.0</td>\n",
              "      <td>...</td>\n",
              "      <td>0.0</td>\n",
              "      <td>0.0</td>\n",
              "      <td>0.0</td>\n",
              "      <td>0.0</td>\n",
              "      <td>0.0</td>\n",
              "      <td>0.0</td>\n",
              "      <td>0.0</td>\n",
              "      <td>0.0</td>\n",
              "      <td>0.0</td>\n",
              "      <td>0.0</td>\n",
              "    </tr>\n",
              "  </tbody>\n",
              "</table>\n",
              "<p>7991 rows × 25892 columns</p>\n",
              "</div>"
            ],
            "text/plain": [
              "      aaa  aaaaa  aaaaaand  aaaaah  aaaaand  aaahh  aaahhhh  aaahhhhh  aaand  \\\n",
              "0     0.0    0.0       0.0     0.0      0.0    0.0      0.0       0.0    0.0   \n",
              "1     0.0    0.0       0.0     0.0      0.0    0.0      0.0       0.0    0.0   \n",
              "2     0.0    0.0       0.0     0.0      0.0    0.0      0.0       0.0    0.0   \n",
              "3     0.0    0.0       0.0     0.0      0.0    0.0      0.0       0.0    0.0   \n",
              "4     0.0    0.0       0.0     0.0      0.0    0.0      0.0       0.0    0.0   \n",
              "...   ...    ...       ...     ...      ...    ...      ...       ...    ...   \n",
              "7986  0.0    0.0       0.0     0.0      0.0    0.0      0.0       0.0    0.0   \n",
              "7987  0.0    0.0       0.0     0.0      0.0    0.0      0.0       0.0    0.0   \n",
              "7988  0.0    0.0       0.0     0.0      0.0    0.0      0.0       0.0    0.0   \n",
              "7989  0.0    0.0       0.0     0.0      0.0    0.0      0.0       0.0    0.0   \n",
              "7990  0.0    0.0       0.0     0.0      0.0    0.0      0.0       0.0    0.0   \n",
              "\n",
              "      aaawwwww  ...  zovik  zpamdelacruz  zshq  zucchini  zuma  zumba  zurich  \\\n",
              "0          0.0  ...    0.0           0.0   0.0       0.0   0.0    0.0     0.0   \n",
              "1          0.0  ...    0.0           0.0   0.0       0.0   0.0    0.0     0.0   \n",
              "2          0.0  ...    0.0           0.0   0.0       0.0   0.0    0.0     0.0   \n",
              "3          0.0  ...    0.0           0.0   0.0       0.0   0.0    0.0     0.0   \n",
              "4          0.0  ...    0.0           0.0   0.0       0.0   0.0    0.0     0.0   \n",
              "...        ...  ...    ...           ...   ...       ...   ...    ...     ...   \n",
              "7986       0.0  ...    0.0           0.0   0.0       0.0   0.0    0.0     0.0   \n",
              "7987       0.0  ...    0.0           0.0   0.0       0.0   0.0    0.0     0.0   \n",
              "7988       0.0  ...    0.0           0.0   0.0       0.0   0.0    0.0     0.0   \n",
              "7989       0.0  ...    0.0           0.0   0.0       0.0   0.0    0.0     0.0   \n",
              "7990       0.0  ...    0.0           0.0   0.0       0.0   0.0    0.0     0.0   \n",
              "\n",
              "      zydeco  zzz  zzzzzzzz  \n",
              "0        0.0  0.0       0.0  \n",
              "1        0.0  0.0       0.0  \n",
              "2        0.0  0.0       0.0  \n",
              "3        0.0  0.0       0.0  \n",
              "4        0.0  0.0       0.0  \n",
              "...      ...  ...       ...  \n",
              "7986     0.0  0.0       0.0  \n",
              "7987     0.0  0.0       0.0  \n",
              "7988     0.0  0.0       0.0  \n",
              "7989     0.0  0.0       0.0  \n",
              "7990     0.0  0.0       0.0  \n",
              "\n",
              "[7991 rows x 25892 columns]"
            ]
          },
          "execution_count": 17,
          "metadata": {},
          "output_type": "execute_result"
        }
      ],
      "source": [
        "# create a dataframe\n",
        "feature_names_test = vect_tfidf.get_feature_names_out ()\n",
        "pd.DataFrame(X_test_tfidf_dtm.toarray(), columns=feature_names_test)"
      ]
    },
    {
      "cell_type": "markdown",
      "id": "4d385e20",
      "metadata": {
        "id": "4d385e20"
      },
      "source": [
        "###  Model building: Ordinary Logistic Regression"
      ]
    },
    {
      "cell_type": "markdown",
      "id": "219023a6",
      "metadata": {
        "id": "219023a6"
      },
      "source": [
        "#### 1. Instantiate Logistic Regression from sklearn with default parameters"
      ]
    },
    {
      "cell_type": "code",
      "execution_count": null,
      "id": "f37382a7",
      "metadata": {
        "id": "f37382a7"
      },
      "outputs": [],
      "source": [
        "from sklearn.linear_model import LogisticRegression\n",
        "lr = LogisticRegression(random_state=0)"
      ]
    },
    {
      "cell_type": "code",
      "execution_count": null,
      "id": "4d9203fb",
      "metadata": {
        "id": "4d9203fb",
        "outputId": "8e36e6ee-8114-4b2a-97d3-939e596d5372"
      },
      "outputs": [
        {
          "data": {
            "text/html": [
              "<style>#sk-container-id-1 {color: black;background-color: white;}#sk-container-id-1 pre{padding: 0;}#sk-container-id-1 div.sk-toggleable {background-color: white;}#sk-container-id-1 label.sk-toggleable__label {cursor: pointer;display: block;width: 100%;margin-bottom: 0;padding: 0.3em;box-sizing: border-box;text-align: center;}#sk-container-id-1 label.sk-toggleable__label-arrow:before {content: \"▸\";float: left;margin-right: 0.25em;color: #696969;}#sk-container-id-1 label.sk-toggleable__label-arrow:hover:before {color: black;}#sk-container-id-1 div.sk-estimator:hover label.sk-toggleable__label-arrow:before {color: black;}#sk-container-id-1 div.sk-toggleable__content {max-height: 0;max-width: 0;overflow: hidden;text-align: left;background-color: #f0f8ff;}#sk-container-id-1 div.sk-toggleable__content pre {margin: 0.2em;color: black;border-radius: 0.25em;background-color: #f0f8ff;}#sk-container-id-1 input.sk-toggleable__control:checked~div.sk-toggleable__content {max-height: 200px;max-width: 100%;overflow: auto;}#sk-container-id-1 input.sk-toggleable__control:checked~label.sk-toggleable__label-arrow:before {content: \"▾\";}#sk-container-id-1 div.sk-estimator input.sk-toggleable__control:checked~label.sk-toggleable__label {background-color: #d4ebff;}#sk-container-id-1 div.sk-label input.sk-toggleable__control:checked~label.sk-toggleable__label {background-color: #d4ebff;}#sk-container-id-1 input.sk-hidden--visually {border: 0;clip: rect(1px 1px 1px 1px);clip: rect(1px, 1px, 1px, 1px);height: 1px;margin: -1px;overflow: hidden;padding: 0;position: absolute;width: 1px;}#sk-container-id-1 div.sk-estimator {font-family: monospace;background-color: #f0f8ff;border: 1px dotted black;border-radius: 0.25em;box-sizing: border-box;margin-bottom: 0.5em;}#sk-container-id-1 div.sk-estimator:hover {background-color: #d4ebff;}#sk-container-id-1 div.sk-parallel-item::after {content: \"\";width: 100%;border-bottom: 1px solid gray;flex-grow: 1;}#sk-container-id-1 div.sk-label:hover label.sk-toggleable__label {background-color: #d4ebff;}#sk-container-id-1 div.sk-serial::before {content: \"\";position: absolute;border-left: 1px solid gray;box-sizing: border-box;top: 0;bottom: 0;left: 50%;z-index: 0;}#sk-container-id-1 div.sk-serial {display: flex;flex-direction: column;align-items: center;background-color: white;padding-right: 0.2em;padding-left: 0.2em;position: relative;}#sk-container-id-1 div.sk-item {position: relative;z-index: 1;}#sk-container-id-1 div.sk-parallel {display: flex;align-items: stretch;justify-content: center;background-color: white;position: relative;}#sk-container-id-1 div.sk-item::before, #sk-container-id-1 div.sk-parallel-item::before {content: \"\";position: absolute;border-left: 1px solid gray;box-sizing: border-box;top: 0;bottom: 0;left: 50%;z-index: -1;}#sk-container-id-1 div.sk-parallel-item {display: flex;flex-direction: column;z-index: 1;position: relative;background-color: white;}#sk-container-id-1 div.sk-parallel-item:first-child::after {align-self: flex-end;width: 50%;}#sk-container-id-1 div.sk-parallel-item:last-child::after {align-self: flex-start;width: 50%;}#sk-container-id-1 div.sk-parallel-item:only-child::after {width: 0;}#sk-container-id-1 div.sk-dashed-wrapped {border: 1px dashed gray;margin: 0 0.4em 0.5em 0.4em;box-sizing: border-box;padding-bottom: 0.4em;background-color: white;}#sk-container-id-1 div.sk-label label {font-family: monospace;font-weight: bold;display: inline-block;line-height: 1.2em;}#sk-container-id-1 div.sk-label-container {text-align: center;}#sk-container-id-1 div.sk-container {/* jupyter's `normalize.less` sets `[hidden] { display: none; }` but bootstrap.min.css set `[hidden] { display: none !important; }` so we also need the `!important` here to be able to override the default hidden behavior on the sphinx rendered scikit-learn.org. See: https://github.com/scikit-learn/scikit-learn/issues/21755 */display: inline-block !important;position: relative;}#sk-container-id-1 div.sk-text-repr-fallback {display: none;}</style><div id=\"sk-container-id-1\" class=\"sk-top-container\"><div class=\"sk-text-repr-fallback\"><pre>LogisticRegression(random_state=0)</pre><b>In a Jupyter environment, please rerun this cell to show the HTML representation or trust the notebook. <br />On GitHub, the HTML representation is unable to render, please try loading this page with nbviewer.org.</b></div><div class=\"sk-container\" hidden><div class=\"sk-item\"><div class=\"sk-estimator sk-toggleable\"><input class=\"sk-toggleable__control sk-hidden--visually\" id=\"sk-estimator-id-1\" type=\"checkbox\" checked><label for=\"sk-estimator-id-1\" class=\"sk-toggleable__label sk-toggleable__label-arrow\">LogisticRegression</label><div class=\"sk-toggleable__content\"><pre>LogisticRegression(random_state=0)</pre></div></div></div></div></div>"
            ],
            "text/plain": [
              "LogisticRegression(random_state=0)"
            ]
          },
          "execution_count": 19,
          "metadata": {},
          "output_type": "execute_result"
        }
      ],
      "source": [
        "lr.fit(X_train_tfidf_dtm, y_train)"
      ]
    },
    {
      "cell_type": "markdown",
      "id": "92385818",
      "metadata": {
        "id": "92385818"
      },
      "source": [
        "#### 3. Make predictions for the train and the test set"
      ]
    },
    {
      "cell_type": "code",
      "execution_count": null,
      "id": "00087ff3",
      "metadata": {
        "id": "00087ff3"
      },
      "outputs": [],
      "source": [
        "# make class predictions for X_test_dtm\n",
        "y_pred_class_train = lr.predict(X_train_tfidf_dtm)\n",
        "y_pred_class_test = lr.predict(X_test_tfidf_dtm)\n"
      ]
    },
    {
      "cell_type": "markdown",
      "id": "c841b8da",
      "metadata": {
        "id": "c841b8da"
      },
      "source": [
        "###  Model evaluation: Accuracy, recall, and f_1 score"
      ]
    },
    {
      "cell_type": "markdown",
      "id": "1786484a",
      "metadata": {
        "id": "1786484a"
      },
      "source": [
        "#### 1. Report the accuracy on the train set"
      ]
    },
    {
      "cell_type": "code",
      "execution_count": null,
      "id": "78f4f514",
      "metadata": {
        "id": "78f4f514",
        "outputId": "9233120a-d17e-47de-f431-a2c2e3a8ea01"
      },
      "outputs": [
        {
          "data": {
            "text/plain": [
              "0.9537774811230236"
            ]
          },
          "execution_count": 21,
          "metadata": {},
          "output_type": "execute_result"
        }
      ],
      "source": [
        "# Calculate accuracy of class predictions\n",
        "from sklearn.metrics import accuracy_score\n",
        "accuracy_score_train = accuracy_score(y_train, y_pred_class_train)\n",
        "accuracy_score_train"
      ]
    },
    {
      "cell_type": "markdown",
      "id": "c556a742",
      "metadata": {
        "id": "c556a742"
      },
      "source": [
        "#### 2. Report the recall on the train set: decent, high, or low"
      ]
    },
    {
      "cell_type": "code",
      "execution_count": null,
      "id": "a2e9eb3f",
      "metadata": {
        "id": "a2e9eb3f",
        "outputId": "52f3c2ef-f432-44a9-db40-cf583898bc40"
      },
      "outputs": [
        {
          "data": {
            "text/plain": [
              "0.6826401664214806"
            ]
          },
          "execution_count": 22,
          "metadata": {},
          "output_type": "execute_result"
        }
      ],
      "source": [
        "from sklearn.metrics import recall_score\n",
        "recall_metric = recall_score(y_train, y_pred_class_train, average = \"macro\")\n",
        "recall_metric"
      ]
    },
    {
      "cell_type": "markdown",
      "id": "3560b1e0",
      "metadata": {
        "id": "3560b1e0"
      },
      "source": [
        "#### 3. Get the f1 score on the train set"
      ]
    },
    {
      "cell_type": "code",
      "execution_count": null,
      "id": "cbc0d761",
      "metadata": {
        "id": "cbc0d761",
        "outputId": "a0f9767a-2bcd-434c-a95f-48b67e86bc8c"
      },
      "outputs": [
        {
          "data": {
            "text/plain": [
              "0.752702833659725"
            ]
          },
          "execution_count": 23,
          "metadata": {},
          "output_type": "execute_result"
        }
      ],
      "source": [
        "from sklearn.metrics import f1_score\n",
        "f1_score = f1_score(y_train, y_pred_class_train, average = \"macro\")\n",
        "f1_score"
      ]
    },
    {
      "cell_type": "code",
      "execution_count": null,
      "id": "d6b82821",
      "metadata": {
        "id": "d6b82821",
        "outputId": "667fde06-ccf1-4fcb-9976-adeeb7a4d13d"
      },
      "outputs": [
        {
          "name": "stdout",
          "output_type": "stream",
          "text": [
            "[[22239    30]\n",
            " [ 1078   624]]\n"
          ]
        }
      ],
      "source": [
        "from sklearn.metrics import confusion_matrix\n",
        "print(confusion_matrix(y_train,y_pred_class_train))"
      ]
    },
    {
      "cell_type": "markdown",
      "id": "68a80cf6",
      "metadata": {
        "id": "68a80cf6"
      },
      "source": [
        "### Adjust the class imbalance, as the model seems to focus on the 0"
      ]
    },
    {
      "cell_type": "markdown",
      "id": "22a1c383",
      "metadata": {
        "id": "22a1c383"
      },
      "source": [
        "#### 1. Adjust the appropriate class in the LogisticRegression model"
      ]
    },
    {
      "cell_type": "code",
      "execution_count": null,
      "id": "c7dc4322",
      "metadata": {
        "id": "c7dc4322"
      },
      "outputs": [],
      "source": [
        "wlr = LogisticRegression(random_state=1, class_weight=\"balanced\")"
      ]
    },
    {
      "cell_type": "markdown",
      "id": "08adcfbf",
      "metadata": {
        "id": "08adcfbf"
      },
      "source": [
        "###  Train again with the adjustment and evaluate"
      ]
    },
    {
      "cell_type": "markdown",
      "id": "82b9d473",
      "metadata": {
        "id": "82b9d473"
      },
      "source": [
        "####1. Train the model on the train set"
      ]
    },
    {
      "cell_type": "code",
      "execution_count": null,
      "id": "fe0eac16",
      "metadata": {
        "id": "fe0eac16"
      },
      "outputs": [],
      "source": [
        "wlr.fit(X_train_tfidf_dtm, y_train)\n",
        "\n",
        "wlr_y_pred_class_train = wlr.predict(X_train_tfidf_dtm)"
      ]
    },
    {
      "cell_type": "markdown",
      "id": "68973826",
      "metadata": {
        "id": "68973826"
      },
      "source": [
        "#### 2. Evaluate the predictions on the train set: accuracy, recall, and f_1 score"
      ]
    },
    {
      "cell_type": "code",
      "execution_count": null,
      "id": "404bdb8f",
      "metadata": {
        "id": "404bdb8f",
        "outputId": "1480400a-bf03-4e32-d0a5-fc8f0fd3c9c8"
      },
      "outputs": [
        {
          "data": {
            "text/plain": [
              "0.9658337157398523"
            ]
          },
          "execution_count": 27,
          "metadata": {},
          "output_type": "execute_result"
        }
      ],
      "source": [
        "wlr_accuracy_score_train = accuracy_score(y_train, wlr_y_pred_class_train)\n",
        "wlr_accuracy_score_train"
      ]
    },
    {
      "cell_type": "code",
      "execution_count": null,
      "id": "bf870bbe",
      "metadata": {
        "id": "bf870bbe",
        "outputId": "583650aa-154d-4e7a-f1ab-8f36cc87d485"
      },
      "outputs": [
        {
          "data": {
            "text/plain": [
              "0.9775414189675973"
            ]
          },
          "execution_count": 28,
          "metadata": {},
          "output_type": "execute_result"
        }
      ],
      "source": [
        "wlr_recall_metric = recall_score(y_train, wlr_y_pred_class_train, average = \"macro\")\n",
        "wlr_recall_metric"
      ]
    },
    {
      "cell_type": "code",
      "execution_count": null,
      "id": "862d86e6",
      "metadata": {
        "id": "862d86e6",
        "outputId": "13565e45-6bad-4e9e-a0e3-d5303343cf80"
      },
      "outputs": [
        {
          "data": {
            "text/plain": [
              "0.8929770147667768"
            ]
          },
          "execution_count": 29,
          "metadata": {},
          "output_type": "execute_result"
        }
      ],
      "source": [
        "from sklearn.metrics import f1_score\n",
        "wlr_f1_score = f1_score(y_train, wlr_y_pred_class_train, average = \"macro\")\n",
        "wlr_f1_score"
      ]
    },
    {
      "cell_type": "code",
      "execution_count": null,
      "id": "faaa2553",
      "metadata": {
        "id": "faaa2553",
        "outputId": "cff55b49-4edb-49b6-f4c4-796c29c22beb"
      },
      "outputs": [
        {
          "name": "stdout",
          "output_type": "stream",
          "text": [
            "[[21465   804]\n",
            " [   15  1687]]\n"
          ]
        }
      ],
      "source": [
        "from sklearn.metrics import confusion_matrix\n",
        "print(confusion_matrix(y_train,wlr_y_pred_class_train))"
      ]
    },
    {
      "cell_type": "markdown",
      "id": "d72f8fa3",
      "metadata": {
        "id": "d72f8fa3"
      },
      "source": [
        "##### By changing class_weight from none to balanced, F1 score has improved to 0.89 from 0.72 and FN has reduced to 16 from 1156 and FP has increased to 802 from 19"
      ]
    },
    {
      "cell_type": "markdown",
      "id": "f757306a",
      "metadata": {
        "id": "f757306a"
      },
      "source": [
        "###  Regularization and Hyperparameter tuning"
      ]
    },
    {
      "cell_type": "markdown",
      "id": "fca69a55",
      "metadata": {
        "id": "fca69a55"
      },
      "source": [
        "#### 1. Import GridSearch and StratifiedKFold because of class imbalance"
      ]
    },
    {
      "cell_type": "code",
      "execution_count": null,
      "id": "9ce3fc9e",
      "metadata": {
        "id": "9ce3fc9e"
      },
      "outputs": [],
      "source": [
        "from sklearn.linear_model import Ridge\n",
        "from sklearn.model_selection import GridSearchCV,StratifiedKFold"
      ]
    },
    {
      "cell_type": "markdown",
      "id": "bcf0bf8b",
      "metadata": {
        "id": "bcf0bf8b"
      },
      "source": [
        "#### 2. Provide the parameter grid to choose for ‘C’ and ‘penalty’ parameters"
      ]
    },
    {
      "cell_type": "code",
      "execution_count": null,
      "id": "42e789c8",
      "metadata": {
        "id": "42e789c8"
      },
      "outputs": [],
      "source": [
        "grid={\"C\": [1, 2], \"penalty\":[\"l2\"]}"
      ]
    },
    {
      "cell_type": "markdown",
      "id": "5428dc13",
      "metadata": {
        "id": "5428dc13"
      },
      "source": [
        "#### 3. Use a balanced class weight while instantiating the logistic regression"
      ]
    },
    {
      "cell_type": "code",
      "execution_count": null,
      "id": "1f002408",
      "metadata": {
        "id": "1f002408"
      },
      "outputs": [],
      "source": [
        "logreg=LogisticRegression(class_weight=\"balanced\")\n",
        "logreg_cv=GridSearchCV(logreg,grid)\n",
        "logreg_cv.fit(X_train_tfidf_dtm,y_train)\n",
        "cv_y_pred_class_train = logreg_cv.predict(X_train_tfidf_dtm)"
      ]
    },
    {
      "cell_type": "code",
      "execution_count": null,
      "id": "8abaaa4b",
      "metadata": {
        "id": "8abaaa4b",
        "outputId": "ac694d5c-42bf-456b-c9e1-71edc0c47a9f"
      },
      "outputs": [
        {
          "data": {
            "text/plain": [
              "0.9732176379792249"
            ]
          },
          "execution_count": 34,
          "metadata": {},
          "output_type": "execute_result"
        }
      ],
      "source": [
        "wlr_accuracy_score_train = accuracy_score(y_train, cv_y_pred_class_train)\n",
        "wlr_accuracy_score_train"
      ]
    },
    {
      "cell_type": "code",
      "execution_count": null,
      "id": "47a0d47d",
      "metadata": {
        "id": "47a0d47d",
        "outputId": "9a563c0a-113d-4ab3-c7f8-2b04f1f8fdd2"
      },
      "outputs": [
        {
          "data": {
            "text/plain": [
              "0.983686107781897"
            ]
          },
          "execution_count": 35,
          "metadata": {},
          "output_type": "execute_result"
        }
      ],
      "source": [
        "wlr_recall_metric = recall_score(y_train, cv_y_pred_class_train, average = \"macro\")\n",
        "wlr_recall_metric"
      ]
    },
    {
      "cell_type": "code",
      "execution_count": null,
      "id": "aaedc7b1",
      "metadata": {
        "id": "aaedc7b1",
        "outputId": "fd7d1357-c4bd-4cd9-aa16-a96f3edf7996"
      },
      "outputs": [
        {
          "data": {
            "text/plain": [
              "0.9130764971098893"
            ]
          },
          "execution_count": 36,
          "metadata": {},
          "output_type": "execute_result"
        }
      ],
      "source": [
        "from sklearn.metrics import f1_score\n",
        "wlr_f1_score = f1_score(y_train, cv_y_pred_class_train, average = \"macro\")\n",
        "wlr_f1_score"
      ]
    },
    {
      "cell_type": "code",
      "execution_count": null,
      "id": "10c28dd6",
      "metadata": {
        "id": "10c28dd6",
        "outputId": "83202b9d-17fc-4a38-f898-ee503d3532d2"
      },
      "outputs": [
        {
          "name": "stdout",
          "output_type": "stream",
          "text": [
            "[[21465   804]\n",
            " [   15  1687]]\n"
          ]
        }
      ],
      "source": [
        "from sklearn.metrics import confusion_matrix\n",
        "print(confusion_matrix(y_train,wlr_y_pred_class_train))"
      ]
    },
    {
      "cell_type": "code",
      "execution_count": null,
      "id": "05f842f5",
      "metadata": {
        "id": "05f842f5",
        "outputId": "9871c1fb-b0da-4077-d2f6-8a9f40d6931c"
      },
      "outputs": [
        {
          "name": "stdout",
          "output_type": "stream",
          "text": [
            "[[21634   635]\n",
            " [    7  1695]]\n"
          ]
        }
      ],
      "source": [
        "\n",
        "from sklearn.metrics import confusion_matrix\n",
        "print(confusion_matrix(y_train,cv_y_pred_class_train))"
      ]
    },
    {
      "cell_type": "markdown",
      "id": "75623b61",
      "metadata": {
        "id": "75623b61"
      },
      "source": [
        "##### By applying gridsearch, F1 score has improved to 0.92 from 0.89 and FN has reduced to 5 from 16 and FP has reduced to 557 from 802"
      ]
    },
    {
      "cell_type": "markdown",
      "id": "6ed92ec5",
      "metadata": {
        "id": "6ed92ec5"
      },
      "source": [
        "###  Find the parameters with the best recall in cross validation"
      ]
    },
    {
      "cell_type": "markdown",
      "id": "b13ae645",
      "metadata": {
        "id": "b13ae645"
      },
      "source": [
        "#### 1. Choose ‘recall’ as the metric for scoring"
      ]
    },
    {
      "cell_type": "code",
      "execution_count": null,
      "id": "28c0b010",
      "metadata": {
        "id": "28c0b010"
      },
      "outputs": [],
      "source": [
        "logreg_KF=GridSearchCV(logreg,grid)"
      ]
    },
    {
      "cell_type": "markdown",
      "id": "89722df7",
      "metadata": {
        "id": "89722df7"
      },
      "source": [
        "#### 2. Choose stratified 4 fold cross validation scheme"
      ]
    },
    {
      "cell_type": "code",
      "execution_count": null,
      "id": "85faa2a8",
      "metadata": {
        "id": "85faa2a8",
        "outputId": "bbd1fe3c-e8c8-4636-f55d-632ffc88acd4"
      },
      "outputs": [
        {
          "data": {
            "text/plain": [
              "4"
            ]
          },
          "execution_count": 40,
          "metadata": {},
          "output_type": "execute_result"
        }
      ],
      "source": [
        "\n",
        "from numpy import array\n",
        "from sklearn.model_selection import KFold,StratifiedKFold\n",
        "kf = KFold(n_splits=4)\n",
        "kf.get_n_splits(Twitter_Data)"
      ]
    },
    {
      "cell_type": "markdown",
      "id": "d295b5e0",
      "metadata": {
        "id": "d295b5e0"
      },
      "source": [
        "#### 3. Fit into the train set"
      ]
    },
    {
      "cell_type": "code",
      "execution_count": null,
      "id": "a907a7a5",
      "metadata": {
        "collapsed": true,
        "id": "a907a7a5",
        "jupyter": {
          "outputs_hidden": true
        },
        "outputId": "7d435d6d-91fa-4119-a838-5e6c145d75ea",
        "tags": []
      },
      "outputs": [
        {
          "name": "stderr",
          "output_type": "stream",
          "text": [
            "C:\\Users\\HP\\anaconda3\\envs\\NLP\\lib\\site-packages\\sklearn\\linear_model\\_logistic.py:444: ConvergenceWarning: lbfgs failed to converge (status=1):\n",
            "STOP: TOTAL NO. of ITERATIONS REACHED LIMIT.\n",
            "\n",
            "Increase the number of iterations (max_iter) or scale the data as shown in:\n",
            "    https://scikit-learn.org/stable/modules/preprocessing.html\n",
            "Please also refer to the documentation for alternative solver options:\n",
            "    https://scikit-learn.org/stable/modules/linear_model.html#logistic-regression\n",
            "  n_iter_i = _check_optimize_result(\n",
            "C:\\Users\\HP\\anaconda3\\envs\\NLP\\lib\\site-packages\\sklearn\\linear_model\\_logistic.py:444: ConvergenceWarning: lbfgs failed to converge (status=1):\n",
            "STOP: TOTAL NO. of ITERATIONS REACHED LIMIT.\n",
            "\n",
            "Increase the number of iterations (max_iter) or scale the data as shown in:\n",
            "    https://scikit-learn.org/stable/modules/preprocessing.html\n",
            "Please also refer to the documentation for alternative solver options:\n",
            "    https://scikit-learn.org/stable/modules/linear_model.html#logistic-regression\n",
            "  n_iter_i = _check_optimize_result(\n",
            "C:\\Users\\HP\\anaconda3\\envs\\NLP\\lib\\site-packages\\sklearn\\linear_model\\_logistic.py:444: ConvergenceWarning: lbfgs failed to converge (status=1):\n",
            "STOP: TOTAL NO. of ITERATIONS REACHED LIMIT.\n",
            "\n",
            "Increase the number of iterations (max_iter) or scale the data as shown in:\n",
            "    https://scikit-learn.org/stable/modules/preprocessing.html\n",
            "Please also refer to the documentation for alternative solver options:\n",
            "    https://scikit-learn.org/stable/modules/linear_model.html#logistic-regression\n",
            "  n_iter_i = _check_optimize_result(\n",
            "C:\\Users\\HP\\anaconda3\\envs\\NLP\\lib\\site-packages\\sklearn\\linear_model\\_logistic.py:444: ConvergenceWarning: lbfgs failed to converge (status=1):\n",
            "STOP: TOTAL NO. of ITERATIONS REACHED LIMIT.\n",
            "\n",
            "Increase the number of iterations (max_iter) or scale the data as shown in:\n",
            "    https://scikit-learn.org/stable/modules/preprocessing.html\n",
            "Please also refer to the documentation for alternative solver options:\n",
            "    https://scikit-learn.org/stable/modules/linear_model.html#logistic-regression\n",
            "  n_iter_i = _check_optimize_result(\n",
            "C:\\Users\\HP\\anaconda3\\envs\\NLP\\lib\\site-packages\\sklearn\\linear_model\\_logistic.py:444: ConvergenceWarning: lbfgs failed to converge (status=1):\n",
            "STOP: TOTAL NO. of ITERATIONS REACHED LIMIT.\n",
            "\n",
            "Increase the number of iterations (max_iter) or scale the data as shown in:\n",
            "    https://scikit-learn.org/stable/modules/preprocessing.html\n",
            "Please also refer to the documentation for alternative solver options:\n",
            "    https://scikit-learn.org/stable/modules/linear_model.html#logistic-regression\n",
            "  n_iter_i = _check_optimize_result(\n",
            "C:\\Users\\HP\\anaconda3\\envs\\NLP\\lib\\site-packages\\sklearn\\linear_model\\_logistic.py:444: ConvergenceWarning: lbfgs failed to converge (status=1):\n",
            "STOP: TOTAL NO. of ITERATIONS REACHED LIMIT.\n",
            "\n",
            "Increase the number of iterations (max_iter) or scale the data as shown in:\n",
            "    https://scikit-learn.org/stable/modules/preprocessing.html\n",
            "Please also refer to the documentation for alternative solver options:\n",
            "    https://scikit-learn.org/stable/modules/linear_model.html#logistic-regression\n",
            "  n_iter_i = _check_optimize_result(\n",
            "C:\\Users\\HP\\anaconda3\\envs\\NLP\\lib\\site-packages\\sklearn\\linear_model\\_logistic.py:444: ConvergenceWarning: lbfgs failed to converge (status=1):\n",
            "STOP: TOTAL NO. of ITERATIONS REACHED LIMIT.\n",
            "\n",
            "Increase the number of iterations (max_iter) or scale the data as shown in:\n",
            "    https://scikit-learn.org/stable/modules/preprocessing.html\n",
            "Please also refer to the documentation for alternative solver options:\n",
            "    https://scikit-learn.org/stable/modules/linear_model.html#logistic-regression\n",
            "  n_iter_i = _check_optimize_result(\n",
            "C:\\Users\\HP\\anaconda3\\envs\\NLP\\lib\\site-packages\\sklearn\\linear_model\\_logistic.py:444: ConvergenceWarning: lbfgs failed to converge (status=1):\n",
            "STOP: TOTAL NO. of ITERATIONS REACHED LIMIT.\n",
            "\n",
            "Increase the number of iterations (max_iter) or scale the data as shown in:\n",
            "    https://scikit-learn.org/stable/modules/preprocessing.html\n",
            "Please also refer to the documentation for alternative solver options:\n",
            "    https://scikit-learn.org/stable/modules/linear_model.html#logistic-regression\n",
            "  n_iter_i = _check_optimize_result(\n",
            "C:\\Users\\HP\\anaconda3\\envs\\NLP\\lib\\site-packages\\sklearn\\linear_model\\_logistic.py:444: ConvergenceWarning: lbfgs failed to converge (status=1):\n",
            "STOP: TOTAL NO. of ITERATIONS REACHED LIMIT.\n",
            "\n",
            "Increase the number of iterations (max_iter) or scale the data as shown in:\n",
            "    https://scikit-learn.org/stable/modules/preprocessing.html\n",
            "Please also refer to the documentation for alternative solver options:\n",
            "    https://scikit-learn.org/stable/modules/linear_model.html#logistic-regression\n",
            "  n_iter_i = _check_optimize_result(\n",
            "C:\\Users\\HP\\anaconda3\\envs\\NLP\\lib\\site-packages\\sklearn\\linear_model\\_logistic.py:444: ConvergenceWarning: lbfgs failed to converge (status=1):\n",
            "STOP: TOTAL NO. of ITERATIONS REACHED LIMIT.\n",
            "\n",
            "Increase the number of iterations (max_iter) or scale the data as shown in:\n",
            "    https://scikit-learn.org/stable/modules/preprocessing.html\n",
            "Please also refer to the documentation for alternative solver options:\n",
            "    https://scikit-learn.org/stable/modules/linear_model.html#logistic-regression\n",
            "  n_iter_i = _check_optimize_result(\n",
            "C:\\Users\\HP\\anaconda3\\envs\\NLP\\lib\\site-packages\\sklearn\\linear_model\\_logistic.py:444: ConvergenceWarning: lbfgs failed to converge (status=1):\n",
            "STOP: TOTAL NO. of ITERATIONS REACHED LIMIT.\n",
            "\n",
            "Increase the number of iterations (max_iter) or scale the data as shown in:\n",
            "    https://scikit-learn.org/stable/modules/preprocessing.html\n",
            "Please also refer to the documentation for alternative solver options:\n",
            "    https://scikit-learn.org/stable/modules/linear_model.html#logistic-regression\n",
            "  n_iter_i = _check_optimize_result(\n"
          ]
        },
        {
          "name": "stdout",
          "output_type": "stream",
          "text": [
            "Recall score for fold1 is 0.9428097120984817\n"
          ]
        },
        {
          "name": "stderr",
          "output_type": "stream",
          "text": [
            "C:\\Users\\HP\\anaconda3\\envs\\NLP\\lib\\site-packages\\sklearn\\linear_model\\_logistic.py:444: ConvergenceWarning: lbfgs failed to converge (status=1):\n",
            "STOP: TOTAL NO. of ITERATIONS REACHED LIMIT.\n",
            "\n",
            "Increase the number of iterations (max_iter) or scale the data as shown in:\n",
            "    https://scikit-learn.org/stable/modules/preprocessing.html\n",
            "Please also refer to the documentation for alternative solver options:\n",
            "    https://scikit-learn.org/stable/modules/linear_model.html#logistic-regression\n",
            "  n_iter_i = _check_optimize_result(\n",
            "C:\\Users\\HP\\anaconda3\\envs\\NLP\\lib\\site-packages\\sklearn\\linear_model\\_logistic.py:444: ConvergenceWarning: lbfgs failed to converge (status=1):\n",
            "STOP: TOTAL NO. of ITERATIONS REACHED LIMIT.\n",
            "\n",
            "Increase the number of iterations (max_iter) or scale the data as shown in:\n",
            "    https://scikit-learn.org/stable/modules/preprocessing.html\n",
            "Please also refer to the documentation for alternative solver options:\n",
            "    https://scikit-learn.org/stable/modules/linear_model.html#logistic-regression\n",
            "  n_iter_i = _check_optimize_result(\n",
            "C:\\Users\\HP\\anaconda3\\envs\\NLP\\lib\\site-packages\\sklearn\\linear_model\\_logistic.py:444: ConvergenceWarning: lbfgs failed to converge (status=1):\n",
            "STOP: TOTAL NO. of ITERATIONS REACHED LIMIT.\n",
            "\n",
            "Increase the number of iterations (max_iter) or scale the data as shown in:\n",
            "    https://scikit-learn.org/stable/modules/preprocessing.html\n",
            "Please also refer to the documentation for alternative solver options:\n",
            "    https://scikit-learn.org/stable/modules/linear_model.html#logistic-regression\n",
            "  n_iter_i = _check_optimize_result(\n",
            "C:\\Users\\HP\\anaconda3\\envs\\NLP\\lib\\site-packages\\sklearn\\linear_model\\_logistic.py:444: ConvergenceWarning: lbfgs failed to converge (status=1):\n",
            "STOP: TOTAL NO. of ITERATIONS REACHED LIMIT.\n",
            "\n",
            "Increase the number of iterations (max_iter) or scale the data as shown in:\n",
            "    https://scikit-learn.org/stable/modules/preprocessing.html\n",
            "Please also refer to the documentation for alternative solver options:\n",
            "    https://scikit-learn.org/stable/modules/linear_model.html#logistic-regression\n",
            "  n_iter_i = _check_optimize_result(\n",
            "C:\\Users\\HP\\anaconda3\\envs\\NLP\\lib\\site-packages\\sklearn\\linear_model\\_logistic.py:444: ConvergenceWarning: lbfgs failed to converge (status=1):\n",
            "STOP: TOTAL NO. of ITERATIONS REACHED LIMIT.\n",
            "\n",
            "Increase the number of iterations (max_iter) or scale the data as shown in:\n",
            "    https://scikit-learn.org/stable/modules/preprocessing.html\n",
            "Please also refer to the documentation for alternative solver options:\n",
            "    https://scikit-learn.org/stable/modules/linear_model.html#logistic-regression\n",
            "  n_iter_i = _check_optimize_result(\n",
            "C:\\Users\\HP\\anaconda3\\envs\\NLP\\lib\\site-packages\\sklearn\\linear_model\\_logistic.py:444: ConvergenceWarning: lbfgs failed to converge (status=1):\n",
            "STOP: TOTAL NO. of ITERATIONS REACHED LIMIT.\n",
            "\n",
            "Increase the number of iterations (max_iter) or scale the data as shown in:\n",
            "    https://scikit-learn.org/stable/modules/preprocessing.html\n",
            "Please also refer to the documentation for alternative solver options:\n",
            "    https://scikit-learn.org/stable/modules/linear_model.html#logistic-regression\n",
            "  n_iter_i = _check_optimize_result(\n",
            "C:\\Users\\HP\\anaconda3\\envs\\NLP\\lib\\site-packages\\sklearn\\linear_model\\_logistic.py:444: ConvergenceWarning: lbfgs failed to converge (status=1):\n",
            "STOP: TOTAL NO. of ITERATIONS REACHED LIMIT.\n",
            "\n",
            "Increase the number of iterations (max_iter) or scale the data as shown in:\n",
            "    https://scikit-learn.org/stable/modules/preprocessing.html\n",
            "Please also refer to the documentation for alternative solver options:\n",
            "    https://scikit-learn.org/stable/modules/linear_model.html#logistic-regression\n",
            "  n_iter_i = _check_optimize_result(\n",
            "C:\\Users\\HP\\anaconda3\\envs\\NLP\\lib\\site-packages\\sklearn\\linear_model\\_logistic.py:444: ConvergenceWarning: lbfgs failed to converge (status=1):\n",
            "STOP: TOTAL NO. of ITERATIONS REACHED LIMIT.\n",
            "\n",
            "Increase the number of iterations (max_iter) or scale the data as shown in:\n",
            "    https://scikit-learn.org/stable/modules/preprocessing.html\n",
            "Please also refer to the documentation for alternative solver options:\n",
            "    https://scikit-learn.org/stable/modules/linear_model.html#logistic-regression\n",
            "  n_iter_i = _check_optimize_result(\n",
            "C:\\Users\\HP\\anaconda3\\envs\\NLP\\lib\\site-packages\\sklearn\\linear_model\\_logistic.py:444: ConvergenceWarning: lbfgs failed to converge (status=1):\n",
            "STOP: TOTAL NO. of ITERATIONS REACHED LIMIT.\n",
            "\n",
            "Increase the number of iterations (max_iter) or scale the data as shown in:\n",
            "    https://scikit-learn.org/stable/modules/preprocessing.html\n",
            "Please also refer to the documentation for alternative solver options:\n",
            "    https://scikit-learn.org/stable/modules/linear_model.html#logistic-regression\n",
            "  n_iter_i = _check_optimize_result(\n",
            "C:\\Users\\HP\\anaconda3\\envs\\NLP\\lib\\site-packages\\sklearn\\linear_model\\_logistic.py:444: ConvergenceWarning: lbfgs failed to converge (status=1):\n",
            "STOP: TOTAL NO. of ITERATIONS REACHED LIMIT.\n",
            "\n",
            "Increase the number of iterations (max_iter) or scale the data as shown in:\n",
            "    https://scikit-learn.org/stable/modules/preprocessing.html\n",
            "Please also refer to the documentation for alternative solver options:\n",
            "    https://scikit-learn.org/stable/modules/linear_model.html#logistic-regression\n",
            "  n_iter_i = _check_optimize_result(\n"
          ]
        },
        {
          "name": "stdout",
          "output_type": "stream",
          "text": [
            "Recall score for fold2 is 0.939769916804312\n"
          ]
        },
        {
          "name": "stderr",
          "output_type": "stream",
          "text": [
            "C:\\Users\\HP\\anaconda3\\envs\\NLP\\lib\\site-packages\\sklearn\\linear_model\\_logistic.py:444: ConvergenceWarning: lbfgs failed to converge (status=1):\n",
            "STOP: TOTAL NO. of ITERATIONS REACHED LIMIT.\n",
            "\n",
            "Increase the number of iterations (max_iter) or scale the data as shown in:\n",
            "    https://scikit-learn.org/stable/modules/preprocessing.html\n",
            "Please also refer to the documentation for alternative solver options:\n",
            "    https://scikit-learn.org/stable/modules/linear_model.html#logistic-regression\n",
            "  n_iter_i = _check_optimize_result(\n",
            "C:\\Users\\HP\\anaconda3\\envs\\NLP\\lib\\site-packages\\sklearn\\linear_model\\_logistic.py:444: ConvergenceWarning: lbfgs failed to converge (status=1):\n",
            "STOP: TOTAL NO. of ITERATIONS REACHED LIMIT.\n",
            "\n",
            "Increase the number of iterations (max_iter) or scale the data as shown in:\n",
            "    https://scikit-learn.org/stable/modules/preprocessing.html\n",
            "Please also refer to the documentation for alternative solver options:\n",
            "    https://scikit-learn.org/stable/modules/linear_model.html#logistic-regression\n",
            "  n_iter_i = _check_optimize_result(\n",
            "C:\\Users\\HP\\anaconda3\\envs\\NLP\\lib\\site-packages\\sklearn\\linear_model\\_logistic.py:444: ConvergenceWarning: lbfgs failed to converge (status=1):\n",
            "STOP: TOTAL NO. of ITERATIONS REACHED LIMIT.\n",
            "\n",
            "Increase the number of iterations (max_iter) or scale the data as shown in:\n",
            "    https://scikit-learn.org/stable/modules/preprocessing.html\n",
            "Please also refer to the documentation for alternative solver options:\n",
            "    https://scikit-learn.org/stable/modules/linear_model.html#logistic-regression\n",
            "  n_iter_i = _check_optimize_result(\n",
            "C:\\Users\\HP\\anaconda3\\envs\\NLP\\lib\\site-packages\\sklearn\\linear_model\\_logistic.py:444: ConvergenceWarning: lbfgs failed to converge (status=1):\n",
            "STOP: TOTAL NO. of ITERATIONS REACHED LIMIT.\n",
            "\n",
            "Increase the number of iterations (max_iter) or scale the data as shown in:\n",
            "    https://scikit-learn.org/stable/modules/preprocessing.html\n",
            "Please also refer to the documentation for alternative solver options:\n",
            "    https://scikit-learn.org/stable/modules/linear_model.html#logistic-regression\n",
            "  n_iter_i = _check_optimize_result(\n",
            "C:\\Users\\HP\\anaconda3\\envs\\NLP\\lib\\site-packages\\sklearn\\linear_model\\_logistic.py:444: ConvergenceWarning: lbfgs failed to converge (status=1):\n",
            "STOP: TOTAL NO. of ITERATIONS REACHED LIMIT.\n",
            "\n",
            "Increase the number of iterations (max_iter) or scale the data as shown in:\n",
            "    https://scikit-learn.org/stable/modules/preprocessing.html\n",
            "Please also refer to the documentation for alternative solver options:\n",
            "    https://scikit-learn.org/stable/modules/linear_model.html#logistic-regression\n",
            "  n_iter_i = _check_optimize_result(\n",
            "C:\\Users\\HP\\anaconda3\\envs\\NLP\\lib\\site-packages\\sklearn\\linear_model\\_logistic.py:444: ConvergenceWarning: lbfgs failed to converge (status=1):\n",
            "STOP: TOTAL NO. of ITERATIONS REACHED LIMIT.\n",
            "\n",
            "Increase the number of iterations (max_iter) or scale the data as shown in:\n",
            "    https://scikit-learn.org/stable/modules/preprocessing.html\n",
            "Please also refer to the documentation for alternative solver options:\n",
            "    https://scikit-learn.org/stable/modules/linear_model.html#logistic-regression\n",
            "  n_iter_i = _check_optimize_result(\n",
            "C:\\Users\\HP\\anaconda3\\envs\\NLP\\lib\\site-packages\\sklearn\\linear_model\\_logistic.py:444: ConvergenceWarning: lbfgs failed to converge (status=1):\n",
            "STOP: TOTAL NO. of ITERATIONS REACHED LIMIT.\n",
            "\n",
            "Increase the number of iterations (max_iter) or scale the data as shown in:\n",
            "    https://scikit-learn.org/stable/modules/preprocessing.html\n",
            "Please also refer to the documentation for alternative solver options:\n",
            "    https://scikit-learn.org/stable/modules/linear_model.html#logistic-regression\n",
            "  n_iter_i = _check_optimize_result(\n",
            "C:\\Users\\HP\\anaconda3\\envs\\NLP\\lib\\site-packages\\sklearn\\linear_model\\_logistic.py:444: ConvergenceWarning: lbfgs failed to converge (status=1):\n",
            "STOP: TOTAL NO. of ITERATIONS REACHED LIMIT.\n",
            "\n",
            "Increase the number of iterations (max_iter) or scale the data as shown in:\n",
            "    https://scikit-learn.org/stable/modules/preprocessing.html\n",
            "Please also refer to the documentation for alternative solver options:\n",
            "    https://scikit-learn.org/stable/modules/linear_model.html#logistic-regression\n",
            "  n_iter_i = _check_optimize_result(\n",
            "C:\\Users\\HP\\anaconda3\\envs\\NLP\\lib\\site-packages\\sklearn\\linear_model\\_logistic.py:444: ConvergenceWarning: lbfgs failed to converge (status=1):\n",
            "STOP: TOTAL NO. of ITERATIONS REACHED LIMIT.\n",
            "\n",
            "Increase the number of iterations (max_iter) or scale the data as shown in:\n",
            "    https://scikit-learn.org/stable/modules/preprocessing.html\n",
            "Please also refer to the documentation for alternative solver options:\n",
            "    https://scikit-learn.org/stable/modules/linear_model.html#logistic-regression\n",
            "  n_iter_i = _check_optimize_result(\n",
            "C:\\Users\\HP\\anaconda3\\envs\\NLP\\lib\\site-packages\\sklearn\\linear_model\\_logistic.py:444: ConvergenceWarning: lbfgs failed to converge (status=1):\n",
            "STOP: TOTAL NO. of ITERATIONS REACHED LIMIT.\n",
            "\n",
            "Increase the number of iterations (max_iter) or scale the data as shown in:\n",
            "    https://scikit-learn.org/stable/modules/preprocessing.html\n",
            "Please also refer to the documentation for alternative solver options:\n",
            "    https://scikit-learn.org/stable/modules/linear_model.html#logistic-regression\n",
            "  n_iter_i = _check_optimize_result(\n"
          ]
        },
        {
          "name": "stdout",
          "output_type": "stream",
          "text": [
            "Recall score for fold3 is 0.9415341719856793\n"
          ]
        },
        {
          "name": "stderr",
          "output_type": "stream",
          "text": [
            "C:\\Users\\HP\\anaconda3\\envs\\NLP\\lib\\site-packages\\sklearn\\linear_model\\_logistic.py:444: ConvergenceWarning: lbfgs failed to converge (status=1):\n",
            "STOP: TOTAL NO. of ITERATIONS REACHED LIMIT.\n",
            "\n",
            "Increase the number of iterations (max_iter) or scale the data as shown in:\n",
            "    https://scikit-learn.org/stable/modules/preprocessing.html\n",
            "Please also refer to the documentation for alternative solver options:\n",
            "    https://scikit-learn.org/stable/modules/linear_model.html#logistic-regression\n",
            "  n_iter_i = _check_optimize_result(\n",
            "C:\\Users\\HP\\anaconda3\\envs\\NLP\\lib\\site-packages\\sklearn\\linear_model\\_logistic.py:444: ConvergenceWarning: lbfgs failed to converge (status=1):\n",
            "STOP: TOTAL NO. of ITERATIONS REACHED LIMIT.\n",
            "\n",
            "Increase the number of iterations (max_iter) or scale the data as shown in:\n",
            "    https://scikit-learn.org/stable/modules/preprocessing.html\n",
            "Please also refer to the documentation for alternative solver options:\n",
            "    https://scikit-learn.org/stable/modules/linear_model.html#logistic-regression\n",
            "  n_iter_i = _check_optimize_result(\n",
            "C:\\Users\\HP\\anaconda3\\envs\\NLP\\lib\\site-packages\\sklearn\\linear_model\\_logistic.py:444: ConvergenceWarning: lbfgs failed to converge (status=1):\n",
            "STOP: TOTAL NO. of ITERATIONS REACHED LIMIT.\n",
            "\n",
            "Increase the number of iterations (max_iter) or scale the data as shown in:\n",
            "    https://scikit-learn.org/stable/modules/preprocessing.html\n",
            "Please also refer to the documentation for alternative solver options:\n",
            "    https://scikit-learn.org/stable/modules/linear_model.html#logistic-regression\n",
            "  n_iter_i = _check_optimize_result(\n",
            "C:\\Users\\HP\\anaconda3\\envs\\NLP\\lib\\site-packages\\sklearn\\linear_model\\_logistic.py:444: ConvergenceWarning: lbfgs failed to converge (status=1):\n",
            "STOP: TOTAL NO. of ITERATIONS REACHED LIMIT.\n",
            "\n",
            "Increase the number of iterations (max_iter) or scale the data as shown in:\n",
            "    https://scikit-learn.org/stable/modules/preprocessing.html\n",
            "Please also refer to the documentation for alternative solver options:\n",
            "    https://scikit-learn.org/stable/modules/linear_model.html#logistic-regression\n",
            "  n_iter_i = _check_optimize_result(\n",
            "C:\\Users\\HP\\anaconda3\\envs\\NLP\\lib\\site-packages\\sklearn\\linear_model\\_logistic.py:444: ConvergenceWarning: lbfgs failed to converge (status=1):\n",
            "STOP: TOTAL NO. of ITERATIONS REACHED LIMIT.\n",
            "\n",
            "Increase the number of iterations (max_iter) or scale the data as shown in:\n",
            "    https://scikit-learn.org/stable/modules/preprocessing.html\n",
            "Please also refer to the documentation for alternative solver options:\n",
            "    https://scikit-learn.org/stable/modules/linear_model.html#logistic-regression\n",
            "  n_iter_i = _check_optimize_result(\n",
            "C:\\Users\\HP\\anaconda3\\envs\\NLP\\lib\\site-packages\\sklearn\\linear_model\\_logistic.py:444: ConvergenceWarning: lbfgs failed to converge (status=1):\n",
            "STOP: TOTAL NO. of ITERATIONS REACHED LIMIT.\n",
            "\n",
            "Increase the number of iterations (max_iter) or scale the data as shown in:\n",
            "    https://scikit-learn.org/stable/modules/preprocessing.html\n",
            "Please also refer to the documentation for alternative solver options:\n",
            "    https://scikit-learn.org/stable/modules/linear_model.html#logistic-regression\n",
            "  n_iter_i = _check_optimize_result(\n",
            "C:\\Users\\HP\\anaconda3\\envs\\NLP\\lib\\site-packages\\sklearn\\linear_model\\_logistic.py:444: ConvergenceWarning: lbfgs failed to converge (status=1):\n",
            "STOP: TOTAL NO. of ITERATIONS REACHED LIMIT.\n",
            "\n",
            "Increase the number of iterations (max_iter) or scale the data as shown in:\n",
            "    https://scikit-learn.org/stable/modules/preprocessing.html\n",
            "Please also refer to the documentation for alternative solver options:\n",
            "    https://scikit-learn.org/stable/modules/linear_model.html#logistic-regression\n",
            "  n_iter_i = _check_optimize_result(\n",
            "C:\\Users\\HP\\anaconda3\\envs\\NLP\\lib\\site-packages\\sklearn\\linear_model\\_logistic.py:444: ConvergenceWarning: lbfgs failed to converge (status=1):\n",
            "STOP: TOTAL NO. of ITERATIONS REACHED LIMIT.\n",
            "\n",
            "Increase the number of iterations (max_iter) or scale the data as shown in:\n",
            "    https://scikit-learn.org/stable/modules/preprocessing.html\n",
            "Please also refer to the documentation for alternative solver options:\n",
            "    https://scikit-learn.org/stable/modules/linear_model.html#logistic-regression\n",
            "  n_iter_i = _check_optimize_result(\n",
            "C:\\Users\\HP\\anaconda3\\envs\\NLP\\lib\\site-packages\\sklearn\\linear_model\\_logistic.py:444: ConvergenceWarning: lbfgs failed to converge (status=1):\n",
            "STOP: TOTAL NO. of ITERATIONS REACHED LIMIT.\n",
            "\n",
            "Increase the number of iterations (max_iter) or scale the data as shown in:\n",
            "    https://scikit-learn.org/stable/modules/preprocessing.html\n",
            "Please also refer to the documentation for alternative solver options:\n",
            "    https://scikit-learn.org/stable/modules/linear_model.html#logistic-regression\n",
            "  n_iter_i = _check_optimize_result(\n"
          ]
        },
        {
          "name": "stdout",
          "output_type": "stream",
          "text": [
            "Recall score for fold4 is 0.9393067536694248\n"
          ]
        },
        {
          "name": "stderr",
          "output_type": "stream",
          "text": [
            "C:\\Users\\HP\\anaconda3\\envs\\NLP\\lib\\site-packages\\sklearn\\linear_model\\_logistic.py:444: ConvergenceWarning: lbfgs failed to converge (status=1):\n",
            "STOP: TOTAL NO. of ITERATIONS REACHED LIMIT.\n",
            "\n",
            "Increase the number of iterations (max_iter) or scale the data as shown in:\n",
            "    https://scikit-learn.org/stable/modules/preprocessing.html\n",
            "Please also refer to the documentation for alternative solver options:\n",
            "    https://scikit-learn.org/stable/modules/linear_model.html#logistic-regression\n",
            "  n_iter_i = _check_optimize_result(\n"
          ]
        }
      ],
      "source": [
        "count = 0\n",
        "for train_index, test_index in kf.split(Twitter_Data):\n",
        "    KF_X_train, KF_X_test, KF_y_train, KF_y_test = Twitter_Data.tweet[train_index], Twitter_Data.tweet[test_index],\\\n",
        "    Twitter_Data.label[train_index],Twitter_Data.label[test_index]\n",
        "    KF_X_train_tfidf_dtm = vect_tfidf.transform(KF_X_train)\n",
        "    KF_X_test_tfidf_dtm = vect_tfidf.transform(KF_X_test)\n",
        "    count=count+1\n",
        "    logreg_KF.fit(KF_X_train_tfidf_dtm,KF_y_train)\n",
        "    KF_cv_y_pred_class_train = logreg_KF.predict(KF_X_train_tfidf_dtm)\n",
        "    KF_recall_metric = recall_score(KF_y_train, KF_cv_y_pred_class_train, average = \"macro\")\n",
        "    print(\"Recall score for fold\" + str(count) + \" is \" + str(KF_recall_metric))"
      ]
    },
    {
      "cell_type": "markdown",
      "id": "cd9afd07",
      "metadata": {
        "id": "cd9afd07"
      },
      "source": [
        "#### Recall score is pretty consistent across all 4 data distribution"
      ]
    },
    {
      "cell_type": "markdown",
      "id": "e2046a23",
      "metadata": {
        "id": "e2046a23"
      },
      "source": [
        "###  What are the best parameters?"
      ]
    },
    {
      "cell_type": "code",
      "execution_count": null,
      "id": "9a6a53a2",
      "metadata": {
        "id": "9a6a53a2",
        "outputId": "817c68d4-9f56-4bc2-ace1-9a42583e4110"
      },
      "outputs": [
        {
          "name": "stdout",
          "output_type": "stream",
          "text": [
            " Results from Grid Search \n",
            "\n",
            " The best estimator across ALL searched params:\n",
            " LogisticRegression(C=2, class_weight='balanced')\n",
            "\n",
            " The best score across ALL searched params:\n",
            " 0.9010927023395163\n",
            "\n",
            " The best parameters across ALL searched params:\n",
            " {'C': 2, 'penalty': 'l2'}\n"
          ]
        }
      ],
      "source": [
        "print(\" Results from Grid Search \" )\n",
        "print(\"\\n The best estimator across ALL searched params:\\n\",logreg_KF.best_estimator_)\n",
        "print(\"\\n The best score across ALL searched params:\\n\",logreg_KF.best_score_)\n",
        "print(\"\\n The best parameters across ALL searched params:\\n\",logreg_KF.best_params_)"
      ]
    },
    {
      "cell_type": "markdown",
      "id": "6f4cdca6",
      "metadata": {
        "id": "6f4cdca6"
      },
      "source": [
        "### Predict and evaluate using the best estimator"
      ]
    },
    {
      "cell_type": "markdown",
      "id": "b91d3f57",
      "metadata": {
        "id": "b91d3f57"
      },
      "source": [
        "#### 1. Use the best estimator from the grid search to make predictions on the test set"
      ]
    },
    {
      "cell_type": "code",
      "execution_count": null,
      "id": "95542108",
      "metadata": {
        "id": "95542108"
      },
      "outputs": [],
      "source": [
        "logreg_be=LogisticRegression(C=2, class_weight='balanced', dual=False, fit_intercept=True,\n",
        "                   intercept_scaling=1, l1_ratio=None, max_iter=100,\n",
        "                   multi_class='auto', n_jobs=None, penalty='l2',\n",
        "                   random_state=None, solver='lbfgs', tol=0.0001, verbose=0,\n",
        "                   warm_start=False)\n",
        "\n",
        "logreg_be_cv=GridSearchCV(logreg_be,grid)\n",
        "logreg_be_cv.fit(X_test_tfidf_dtm,y_test)\n",
        "\n",
        "\n",
        "be_cv_y_pred_class_test = logreg_be_cv.predict(X_test_tfidf_dtm)"
      ]
    },
    {
      "cell_type": "markdown",
      "id": "aa7a6443",
      "metadata": {
        "id": "aa7a6443"
      },
      "source": [
        "#### 2. What is the recall on the test set for the toxic comments"
      ]
    },
    {
      "cell_type": "code",
      "execution_count": null,
      "id": "5c4bd110",
      "metadata": {
        "id": "5c4bd110",
        "outputId": "3afaf0a6-9229-43a9-f015-894428b0b344"
      },
      "outputs": [
        {
          "data": {
            "text/plain": [
              "0.9870622635788385"
            ]
          },
          "execution_count": 44,
          "metadata": {},
          "output_type": "execute_result"
        }
      ],
      "source": [
        "be_recall = recall_score(y_test, be_cv_y_pred_class_test, average = \"macro\")\n",
        "be_recall"
      ]
    },
    {
      "cell_type": "markdown",
      "id": "112eb833",
      "metadata": {
        "id": "112eb833"
      },
      "source": [
        "#### 3. What is the f_1 score?"
      ]
    },
    {
      "cell_type": "code",
      "execution_count": null,
      "id": "77cca3ec",
      "metadata": {
        "id": "77cca3ec",
        "outputId": "85eba609-ec92-4038-e3d5-39628e25a918"
      },
      "outputs": [
        {
          "data": {
            "text/plain": [
              "0.9223454001966874"
            ]
          },
          "execution_count": 45,
          "metadata": {},
          "output_type": "execute_result"
        }
      ],
      "source": [
        "from sklearn.metrics import f1_score\n",
        "be_f1_score = f1_score(y_test, be_cv_y_pred_class_test, average = \"macro\")\n",
        "be_f1_score"
      ]
    },
    {
      "cell_type": "code",
      "execution_count": null,
      "id": "2718131f",
      "metadata": {
        "id": "2718131f"
      },
      "outputs": [],
      "source": [
        "from sklearn.metrics import confusion_matrix\n",
        "confusion_matrix=confusion_matrix(y_test, be_cv_y_pred_class_test)"
      ]
    },
    {
      "cell_type": "code",
      "execution_count": null,
      "id": "a3539a7a",
      "metadata": {
        "id": "a3539a7a",
        "outputId": "0c01191b-a84a-4c96-ff61-bf571f8ef1d3"
      },
      "outputs": [
        {
          "name": "stdout",
          "output_type": "stream",
          "text": [
            "[[7272  179]\n",
            " [   1  539]]\n"
          ]
        }
      ],
      "source": [
        "print(confusion_matrix)"
      ]
    },
    {
      "cell_type": "code",
      "execution_count": null,
      "id": "baf1118d",
      "metadata": {
        "id": "baf1118d",
        "outputId": "ca56dbbb-6530-4e0d-b874-1005955a2606"
      },
      "outputs": [
        {
          "name": "stdout",
          "output_type": "stream",
          "text": [
            "              precision    recall  f1-score   support\n",
            "\n",
            "    non_hate       1.00      0.98      0.99      7451\n",
            "        hate       0.75      1.00      0.86       540\n",
            "\n",
            "    accuracy                           0.98      7991\n",
            "   macro avg       0.88      0.99      0.92      7991\n",
            "weighted avg       0.98      0.98      0.98      7991\n",
            "\n"
          ]
        }
      ],
      "source": [
        "from sklearn.metrics import classification_report\n",
        "target_names = ['non_hate', 'hate']\n",
        "print(classification_report(y_test, be_cv_y_pred_class_test,target_names=target_names))"
      ]
    },
    {
      "cell_type": "markdown",
      "id": "30906ee6",
      "metadata": {
        "id": "30906ee6"
      },
      "source": [
        "##### Applying best parameters on test dataset we get F1 score of 0.99."
      ]
    },
    {
      "cell_type": "code",
      "execution_count": null,
      "id": "4438a78c",
      "metadata": {
        "id": "4438a78c",
        "outputId": "f1242228-3166-4978-87d0-97ecb37956ec"
      },
      "outputs": [
        {
          "data": {
            "text/plain": [
              "Text(50.722222222222214, 0.5, 'Truth')"
            ]
          },
          "execution_count": 49,
          "metadata": {},
          "output_type": "execute_result"
        },
        {
          "data": {
            "image/png": "[encoded data removed]",
            "text/plain": [
              "<Figure size 640x480 with 2 Axes>"
            ]
          },
          "metadata": {},
          "output_type": "display_data"
        }
      ],
      "source": [
        "from matplotlib import pyplot as plt\n",
        "import seaborn as sn\n",
        "sn.heatmap(confusion_matrix, annot=True, fmt='d')\n",
        "plt.xlabel('Predicted')\n",
        "plt.ylabel('Truth')"
      ]
    },
    {
      "cell_type": "code",
      "execution_count": null,
      "id": "09ac907d",
      "metadata": {
        "id": "09ac907d"
      },
      "outputs": [],
      "source": []
    }
  ],
  "metadata": {
    "colab": {
      "collapsed_sections": [
        "82b9d473",
        "68973826",
        "6ed92ec5",
        "cd9afd07"
      ],
      "provenance": []
    },
    "kernelspec": {
      "display_name": "Python 3 (ipykernel)",
      "language": "python",
      "name": "python3"
    },
    "language_info": {
      "codemirror_mode": {
        "name": "ipython",
        "version": 3
      },
      "file_extension": ".py",
      "mimetype": "text/x-python",
      "name": "python",
      "nbconvert_exporter": "python",
      "pygments_lexer": "ipython3",
      "version": "3.9.13"
    }
  },
  "nbformat": 4,
  "nbformat_minor": 5
}